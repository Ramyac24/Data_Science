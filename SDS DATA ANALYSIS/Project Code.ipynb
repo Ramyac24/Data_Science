{
 "cells": [
  {
   "cell_type": "code",
   "execution_count": 774,
   "metadata": {},
   "outputs": [],
   "source": [
    "import pandas as pd\n",
    "import matplotlib.pyplot as plt\n",
    "import seaborn as sns\n",
    "import numpy as np"
   ]
  },
  {
   "cell_type": "code",
   "execution_count": 775,
   "metadata": {},
   "outputs": [],
   "source": [
    "df = pd.read_excel(\"loan.xlsx\")"
   ]
  },
  {
   "cell_type": "code",
   "execution_count": 776,
   "metadata": {},
   "outputs": [
    {
     "data": {
      "text/plain": [
       "(11780, 15)"
      ]
     },
     "execution_count": 776,
     "metadata": {},
     "output_type": "execute_result"
    }
   ],
   "source": [
    "df.shape"
   ]
  },
  {
   "cell_type": "code",
   "execution_count": 777,
   "metadata": {},
   "outputs": [
    {
     "data": {
      "text/html": [
       "<div>\n",
       "<style scoped>\n",
       "    .dataframe tbody tr th:only-of-type {\n",
       "        vertical-align: middle;\n",
       "    }\n",
       "\n",
       "    .dataframe tbody tr th {\n",
       "        vertical-align: top;\n",
       "    }\n",
       "\n",
       "    .dataframe thead th {\n",
       "        text-align: right;\n",
       "    }\n",
       "</style>\n",
       "<table border=\"1\" class=\"dataframe\">\n",
       "  <thead>\n",
       "    <tr style=\"text-align: right;\">\n",
       "      <th></th>\n",
       "      <th>loan_amnt</th>\n",
       "      <th>int_rate</th>\n",
       "      <th>emp_length</th>\n",
       "      <th>annual_inc</th>\n",
       "      <th>dti</th>\n",
       "      <th>delinq_2yrs</th>\n",
       "      <th>revol_util</th>\n",
       "      <th>total_acc</th>\n",
       "      <th>bad_loan</th>\n",
       "      <th>longest_credit_length</th>\n",
       "    </tr>\n",
       "  </thead>\n",
       "  <tbody>\n",
       "    <tr>\n",
       "      <th>count</th>\n",
       "      <td>11780.000000</td>\n",
       "      <td>11780.000000</td>\n",
       "      <td>5976.000000</td>\n",
       "      <td>11776.000000</td>\n",
       "      <td>11780.000000</td>\n",
       "      <td>11751.000000</td>\n",
       "      <td>11587.000000</td>\n",
       "      <td>11751.000000</td>\n",
       "      <td>11780.000000</td>\n",
       "      <td>11751.000000</td>\n",
       "    </tr>\n",
       "    <tr>\n",
       "      <th>mean</th>\n",
       "      <td>11357.349321</td>\n",
       "      <td>12.979654</td>\n",
       "      <td>5.266232</td>\n",
       "      <td>58827.594644</td>\n",
       "      <td>15.316434</td>\n",
       "      <td>0.163646</td>\n",
       "      <td>52.707962</td>\n",
       "      <td>22.837120</td>\n",
       "      <td>0.216469</td>\n",
       "      <td>16.650668</td>\n",
       "    </tr>\n",
       "    <tr>\n",
       "      <th>std</th>\n",
       "      <td>7770.383196</td>\n",
       "      <td>4.389470</td>\n",
       "      <td>3.522395</td>\n",
       "      <td>40534.430473</td>\n",
       "      <td>7.521249</td>\n",
       "      <td>0.563901</td>\n",
       "      <td>26.439455</td>\n",
       "      <td>11.301697</td>\n",
       "      <td>0.411855</td>\n",
       "      <td>9.144276</td>\n",
       "    </tr>\n",
       "    <tr>\n",
       "      <th>min</th>\n",
       "      <td>700.000000</td>\n",
       "      <td>5.420000</td>\n",
       "      <td>0.000000</td>\n",
       "      <td>3000.000000</td>\n",
       "      <td>0.000000</td>\n",
       "      <td>0.000000</td>\n",
       "      <td>0.000000</td>\n",
       "      <td>1.000000</td>\n",
       "      <td>0.000000</td>\n",
       "      <td>1.000000</td>\n",
       "    </tr>\n",
       "    <tr>\n",
       "      <th>25%</th>\n",
       "      <td>5500.000000</td>\n",
       "      <td>9.670000</td>\n",
       "      <td>2.000000</td>\n",
       "      <td>35000.000000</td>\n",
       "      <td>9.607500</td>\n",
       "      <td>0.000000</td>\n",
       "      <td>32.200000</td>\n",
       "      <td>14.000000</td>\n",
       "      <td>0.000000</td>\n",
       "      <td>10.000000</td>\n",
       "    </tr>\n",
       "    <tr>\n",
       "      <th>50%</th>\n",
       "      <td>10000.000000</td>\n",
       "      <td>12.690000</td>\n",
       "      <td>5.000000</td>\n",
       "      <td>50000.000000</td>\n",
       "      <td>15.210000</td>\n",
       "      <td>0.000000</td>\n",
       "      <td>54.800000</td>\n",
       "      <td>21.000000</td>\n",
       "      <td>0.000000</td>\n",
       "      <td>14.000000</td>\n",
       "    </tr>\n",
       "    <tr>\n",
       "      <th>75%</th>\n",
       "      <td>15000.000000</td>\n",
       "      <td>15.990000</td>\n",
       "      <td>9.000000</td>\n",
       "      <td>72000.000000</td>\n",
       "      <td>20.775000</td>\n",
       "      <td>0.000000</td>\n",
       "      <td>74.000000</td>\n",
       "      <td>29.000000</td>\n",
       "      <td>0.000000</td>\n",
       "      <td>21.000000</td>\n",
       "    </tr>\n",
       "    <tr>\n",
       "      <th>max</th>\n",
       "      <td>35000.000000</td>\n",
       "      <td>26.060000</td>\n",
       "      <td>10.000000</td>\n",
       "      <td>760000.000000</td>\n",
       "      <td>39.500000</td>\n",
       "      <td>10.000000</td>\n",
       "      <td>105.300000</td>\n",
       "      <td>79.000000</td>\n",
       "      <td>1.000000</td>\n",
       "      <td>61.000000</td>\n",
       "    </tr>\n",
       "  </tbody>\n",
       "</table>\n",
       "</div>"
      ],
      "text/plain": [
       "          loan_amnt      int_rate   emp_length     annual_inc           dti  \\\n",
       "count  11780.000000  11780.000000  5976.000000   11776.000000  11780.000000   \n",
       "mean   11357.349321     12.979654     5.266232   58827.594644     15.316434   \n",
       "std     7770.383196      4.389470     3.522395   40534.430473      7.521249   \n",
       "min      700.000000      5.420000     0.000000    3000.000000      0.000000   \n",
       "25%     5500.000000      9.670000     2.000000   35000.000000      9.607500   \n",
       "50%    10000.000000     12.690000     5.000000   50000.000000     15.210000   \n",
       "75%    15000.000000     15.990000     9.000000   72000.000000     20.775000   \n",
       "max    35000.000000     26.060000    10.000000  760000.000000     39.500000   \n",
       "\n",
       "        delinq_2yrs    revol_util     total_acc      bad_loan  \\\n",
       "count  11751.000000  11587.000000  11751.000000  11780.000000   \n",
       "mean       0.163646     52.707962     22.837120      0.216469   \n",
       "std        0.563901     26.439455     11.301697      0.411855   \n",
       "min        0.000000      0.000000      1.000000      0.000000   \n",
       "25%        0.000000     32.200000     14.000000      0.000000   \n",
       "50%        0.000000     54.800000     21.000000      0.000000   \n",
       "75%        0.000000     74.000000     29.000000      0.000000   \n",
       "max       10.000000    105.300000     79.000000      1.000000   \n",
       "\n",
       "       longest_credit_length  \n",
       "count           11751.000000  \n",
       "mean               16.650668  \n",
       "std                 9.144276  \n",
       "min                 1.000000  \n",
       "25%                10.000000  \n",
       "50%                14.000000  \n",
       "75%                21.000000  \n",
       "max                61.000000  "
      ]
     },
     "execution_count": 777,
     "metadata": {},
     "output_type": "execute_result"
    }
   ],
   "source": [
    "# used to get mean,max, min and percentile of numerical columns\n",
    "df.describe()"
   ]
  },
  {
   "cell_type": "code",
   "execution_count": 778,
   "metadata": {},
   "outputs": [
    {
     "name": "stdout",
     "output_type": "stream",
     "text": [
      "<class 'pandas.core.frame.DataFrame'>\n",
      "RangeIndex: 11780 entries, 0 to 11779\n",
      "Data columns (total 15 columns):\n",
      " #   Column                 Non-Null Count  Dtype  \n",
      "---  ------                 --------------  -----  \n",
      " 0   loan_amnt              11780 non-null  int64  \n",
      " 1   term                   11780 non-null  object \n",
      " 2   int_rate               11780 non-null  float64\n",
      " 3   emp_length             5976 non-null   float64\n",
      " 4   home_ownership         11780 non-null  object \n",
      " 5   annual_inc             11776 non-null  float64\n",
      " 6   purpose                11780 non-null  object \n",
      " 7   addr_state             11780 non-null  object \n",
      " 8   dti                    11780 non-null  float64\n",
      " 9   delinq_2yrs            11751 non-null  float64\n",
      " 10  revol_util             11587 non-null  float64\n",
      " 11  total_acc              11751 non-null  float64\n",
      " 12  bad_loan               11780 non-null  int64  \n",
      " 13  longest_credit_length  11751 non-null  float64\n",
      " 14  verification_status    11780 non-null  object \n",
      "dtypes: float64(8), int64(2), object(5)\n",
      "memory usage: 1.1+ MB\n"
     ]
    }
   ],
   "source": [
    "df.info()"
   ]
  },
  {
   "cell_type": "code",
   "execution_count": 779,
   "metadata": {},
   "outputs": [],
   "source": [
    "# categorical columns\n",
    "\n",
    "# Numerical columns"
   ]
  },
  {
   "cell_type": "code",
   "execution_count": 780,
   "metadata": {},
   "outputs": [
    {
     "data": {
      "text/plain": [
       "0"
      ]
     },
     "execution_count": 780,
     "metadata": {},
     "output_type": "execute_result"
    }
   ],
   "source": [
    "# checking for duplicate rows\n",
    "df.duplicated().sum()"
   ]
  },
  {
   "cell_type": "code",
   "execution_count": 781,
   "metadata": {},
   "outputs": [
    {
     "data": {
      "text/plain": [
       "3.44538766270515"
      ]
     },
     "execution_count": 781,
     "metadata": {},
     "output_type": "execute_result"
    }
   ],
   "source": [
    "# Calculating percentage of null values\n",
    "TotalNullValues = sum(df.isnull().sum())\n",
    "TotalElements = df.shape[0] * df.shape[1]\n",
    "NullPct = (TotalNullValues/TotalElements) * 100\n",
    "NullPct"
   ]
  },
  {
   "cell_type": "code",
   "execution_count": 782,
   "metadata": {},
   "outputs": [
    {
     "data": {
      "text/plain": [
       "Index(['emp_length', 'annual_inc', 'delinq_2yrs', 'revol_util', 'total_acc',\n",
       "       'longest_credit_length'],\n",
       "      dtype='object')"
      ]
     },
     "execution_count": 782,
     "metadata": {},
     "output_type": "execute_result"
    }
   ],
   "source": [
    "# columns with null values\n",
    "colNull = df.columns[df.isnull().any()]\n",
    "colNull"
   ]
  },
  {
   "cell_type": "code",
   "execution_count": 783,
   "metadata": {},
   "outputs": [
    {
     "data": {
      "text/plain": [
       "dtype('float64')"
      ]
     },
     "execution_count": 783,
     "metadata": {},
     "output_type": "execute_result"
    }
   ],
   "source": [
    "# emp_length\n",
    "df['emp_length'].dtype"
   ]
  },
  {
   "cell_type": "code",
   "execution_count": 784,
   "metadata": {},
   "outputs": [
    {
     "data": {
      "text/plain": [
       "<AxesSubplot:xlabel='emp_length'>"
      ]
     },
     "execution_count": 784,
     "metadata": {},
     "output_type": "execute_result"
    },
    {
     "data": {
      "image/png": "[encoded data removed]",
      "text/plain": [
       "<Figure size 432x288 with 1 Axes>"
      ]
     },
     "metadata": {
      "needs_background": "light"
     },
     "output_type": "display_data"
    }
   ],
   "source": [
    "sns.boxplot(x = 'emp_length', data = df) "
   ]
  },
  {
   "cell_type": "code",
   "execution_count": 785,
   "metadata": {},
   "outputs": [],
   "source": [
    "# impute with median\n",
    "med = df['emp_length'].median()\n",
    "df['emp_length'] = df['emp_length'].fillna(med)"
   ]
  },
  {
   "cell_type": "code",
   "execution_count": 786,
   "metadata": {},
   "outputs": [
    {
     "data": {
      "text/plain": [
       "29"
      ]
     },
     "execution_count": 786,
     "metadata": {},
     "output_type": "execute_result"
    }
   ],
   "source": [
    "# total_acc\n",
    "df['total_acc'].isnull().sum()"
   ]
  },
  {
   "cell_type": "code",
   "execution_count": 787,
   "metadata": {},
   "outputs": [],
   "source": [
    "mn = df['total_acc'].mean()\n",
    "df['total_acc'] = df['total_acc'].fillna(mn)"
   ]
  },
  {
   "cell_type": "code",
   "execution_count": 788,
   "metadata": {},
   "outputs": [
    {
     "data": {
      "text/plain": [
       "29"
      ]
     },
     "execution_count": 788,
     "metadata": {},
     "output_type": "execute_result"
    }
   ],
   "source": [
    "# delinq_2yrs\n",
    "df['delinq_2yrs'].isnull().sum()"
   ]
  },
  {
   "cell_type": "code",
   "execution_count": 789,
   "metadata": {},
   "outputs": [],
   "source": [
    "#sns.boxplot(x = 'delinq_2yrs', data = df) \n",
    "#plt.show()"
   ]
  },
  {
   "cell_type": "code",
   "execution_count": 790,
   "metadata": {},
   "outputs": [],
   "source": [
    "mn = df['delinq_2yrs'].mean()\n",
    "df['delinq_2yrs'] = df['delinq_2yrs'].fillna(mn)"
   ]
  },
  {
   "cell_type": "code",
   "execution_count": 791,
   "metadata": {},
   "outputs": [
    {
     "data": {
      "text/plain": [
       "193"
      ]
     },
     "execution_count": 791,
     "metadata": {},
     "output_type": "execute_result"
    }
   ],
   "source": [
    "#revol_util\n",
    "df['revol_util'].isnull().sum()"
   ]
  },
  {
   "cell_type": "code",
   "execution_count": 792,
   "metadata": {},
   "outputs": [
    {
     "data": {
      "text/plain": [
       "dtype('float64')"
      ]
     },
     "execution_count": 792,
     "metadata": {},
     "output_type": "execute_result"
    }
   ],
   "source": [
    "df['revol_util'].dtype"
   ]
  },
  {
   "cell_type": "code",
   "execution_count": 793,
   "metadata": {},
   "outputs": [
    {
     "data": {
      "image/png": "[encoded data removed]",
      "text/plain": [
       "<Figure size 432x288 with 1 Axes>"
      ]
     },
     "metadata": {
      "needs_background": "light"
     },
     "output_type": "display_data"
    }
   ],
   "source": [
    "sns.boxplot(x = 'revol_util', data = df) \n",
    "plt.show()"
   ]
  },
  {
   "cell_type": "code",
   "execution_count": 794,
   "metadata": {},
   "outputs": [],
   "source": [
    "mn = df['revol_util'].mean()\n",
    "df['revol_util'] = df['revol_util'].fillna(mn)"
   ]
  },
  {
   "cell_type": "code",
   "execution_count": 795,
   "metadata": {},
   "outputs": [
    {
     "data": {
      "text/plain": [
       "29"
      ]
     },
     "execution_count": 795,
     "metadata": {},
     "output_type": "execute_result"
    }
   ],
   "source": [
    "# longest_credit_length\n",
    "df['longest_credit_length'].isnull().sum()"
   ]
  },
  {
   "cell_type": "code",
   "execution_count": 796,
   "metadata": {},
   "outputs": [
    {
     "data": {
      "image/png": "[encoded data removed]",
      "text/plain": [
       "<Figure size 432x288 with 1 Axes>"
      ]
     },
     "metadata": {
      "needs_background": "light"
     },
     "output_type": "display_data"
    }
   ],
   "source": [
    "sns.boxplot(x = 'longest_credit_length', data = df) \n",
    "plt.show()"
   ]
  },
  {
   "cell_type": "code",
   "execution_count": 797,
   "metadata": {},
   "outputs": [],
   "source": [
    "md = df['longest_credit_length'].median()\n",
    "df['longest_credit_length'] = df['longest_credit_length'].fillna(md)"
   ]
  },
  {
   "cell_type": "code",
   "execution_count": 798,
   "metadata": {},
   "outputs": [
    {
     "data": {
      "text/plain": [
       "4"
      ]
     },
     "execution_count": 798,
     "metadata": {},
     "output_type": "execute_result"
    }
   ],
   "source": [
    "sum(df.isnull().sum())"
   ]
  },
  {
   "cell_type": "code",
   "execution_count": 799,
   "metadata": {},
   "outputs": [],
   "source": [
    "# dropping rows with annual_inc = NULL\n",
    "df.dropna(inplace = True)"
   ]
  },
  {
   "cell_type": "code",
   "execution_count": 800,
   "metadata": {},
   "outputs": [
    {
     "data": {
      "text/plain": [
       "0"
      ]
     },
     "execution_count": 800,
     "metadata": {},
     "output_type": "execute_result"
    }
   ],
   "source": [
    "# checking if all NAs removed\n",
    "sum(df.isnull().sum())"
   ]
  },
  {
   "cell_type": "code",
   "execution_count": 801,
   "metadata": {
    "scrolled": true
   },
   "outputs": [
    {
     "data": {
      "text/html": [
       "<div>\n",
       "<style scoped>\n",
       "    .dataframe tbody tr th:only-of-type {\n",
       "        vertical-align: middle;\n",
       "    }\n",
       "\n",
       "    .dataframe tbody tr th {\n",
       "        vertical-align: top;\n",
       "    }\n",
       "\n",
       "    .dataframe thead th {\n",
       "        text-align: right;\n",
       "    }\n",
       "</style>\n",
       "<table border=\"1\" class=\"dataframe\">\n",
       "  <thead>\n",
       "    <tr style=\"text-align: right;\">\n",
       "      <th></th>\n",
       "      <th>loan_amnt</th>\n",
       "      <th>term</th>\n",
       "      <th>int_rate</th>\n",
       "      <th>emp_length</th>\n",
       "      <th>home_ownership</th>\n",
       "      <th>annual_inc</th>\n",
       "      <th>purpose</th>\n",
       "      <th>addr_state</th>\n",
       "      <th>dti</th>\n",
       "      <th>delinq_2yrs</th>\n",
       "      <th>revol_util</th>\n",
       "      <th>total_acc</th>\n",
       "      <th>bad_loan</th>\n",
       "      <th>longest_credit_length</th>\n",
       "      <th>verification_status</th>\n",
       "    </tr>\n",
       "  </thead>\n",
       "  <tbody>\n",
       "    <tr>\n",
       "      <th>0</th>\n",
       "      <td>8875</td>\n",
       "      <td>36 months</td>\n",
       "      <td>15.80</td>\n",
       "      <td>5.0</td>\n",
       "      <td>RENT</td>\n",
       "      <td>25468.92</td>\n",
       "      <td>debt_consolidation</td>\n",
       "      <td>CT</td>\n",
       "      <td>28.51</td>\n",
       "      <td>0.0</td>\n",
       "      <td>39.6</td>\n",
       "      <td>24.0</td>\n",
       "      <td>0</td>\n",
       "      <td>37.0</td>\n",
       "      <td>verified</td>\n",
       "    </tr>\n",
       "    <tr>\n",
       "      <th>1</th>\n",
       "      <td>4800</td>\n",
       "      <td>36 months</td>\n",
       "      <td>12.69</td>\n",
       "      <td>6.0</td>\n",
       "      <td>RENT</td>\n",
       "      <td>33000.00</td>\n",
       "      <td>other</td>\n",
       "      <td>IL</td>\n",
       "      <td>4.22</td>\n",
       "      <td>0.0</td>\n",
       "      <td>96.8</td>\n",
       "      <td>18.0</td>\n",
       "      <td>0</td>\n",
       "      <td>16.0</td>\n",
       "      <td>not verified</td>\n",
       "    </tr>\n",
       "    <tr>\n",
       "      <th>2</th>\n",
       "      <td>12000</td>\n",
       "      <td>60 months</td>\n",
       "      <td>11.67</td>\n",
       "      <td>5.0</td>\n",
       "      <td>MORTGAGE</td>\n",
       "      <td>64400.00</td>\n",
       "      <td>credit_card</td>\n",
       "      <td>MA</td>\n",
       "      <td>12.49</td>\n",
       "      <td>0.0</td>\n",
       "      <td>65.8</td>\n",
       "      <td>22.0</td>\n",
       "      <td>0</td>\n",
       "      <td>31.0</td>\n",
       "      <td>verified</td>\n",
       "    </tr>\n",
       "    <tr>\n",
       "      <th>3</th>\n",
       "      <td>8000</td>\n",
       "      <td>36 months</td>\n",
       "      <td>14.27</td>\n",
       "      <td>5.0</td>\n",
       "      <td>MORTGAGE</td>\n",
       "      <td>66000.00</td>\n",
       "      <td>home_improvement</td>\n",
       "      <td>CA</td>\n",
       "      <td>2.11</td>\n",
       "      <td>0.0</td>\n",
       "      <td>0.0</td>\n",
       "      <td>18.0</td>\n",
       "      <td>1</td>\n",
       "      <td>30.0</td>\n",
       "      <td>not verified</td>\n",
       "    </tr>\n",
       "    <tr>\n",
       "      <th>4</th>\n",
       "      <td>15000</td>\n",
       "      <td>36 months</td>\n",
       "      <td>10.99</td>\n",
       "      <td>5.0</td>\n",
       "      <td>OWN</td>\n",
       "      <td>39828.00</td>\n",
       "      <td>debt_consolidation</td>\n",
       "      <td>MT</td>\n",
       "      <td>15.97</td>\n",
       "      <td>0.0</td>\n",
       "      <td>62.6</td>\n",
       "      <td>7.0</td>\n",
       "      <td>0</td>\n",
       "      <td>13.0</td>\n",
       "      <td>not verified</td>\n",
       "    </tr>\n",
       "    <tr>\n",
       "      <th>...</th>\n",
       "      <td>...</td>\n",
       "      <td>...</td>\n",
       "      <td>...</td>\n",
       "      <td>...</td>\n",
       "      <td>...</td>\n",
       "      <td>...</td>\n",
       "      <td>...</td>\n",
       "      <td>...</td>\n",
       "      <td>...</td>\n",
       "      <td>...</td>\n",
       "      <td>...</td>\n",
       "      <td>...</td>\n",
       "      <td>...</td>\n",
       "      <td>...</td>\n",
       "      <td>...</td>\n",
       "    </tr>\n",
       "    <tr>\n",
       "      <th>11775</th>\n",
       "      <td>5000</td>\n",
       "      <td>36 months</td>\n",
       "      <td>15.27</td>\n",
       "      <td>1.0</td>\n",
       "      <td>MORTGAGE</td>\n",
       "      <td>60000.00</td>\n",
       "      <td>home_improvement</td>\n",
       "      <td>PA</td>\n",
       "      <td>11.72</td>\n",
       "      <td>1.0</td>\n",
       "      <td>82.8</td>\n",
       "      <td>25.0</td>\n",
       "      <td>0</td>\n",
       "      <td>21.0</td>\n",
       "      <td>not verified</td>\n",
       "    </tr>\n",
       "    <tr>\n",
       "      <th>11776</th>\n",
       "      <td>30000</td>\n",
       "      <td>60 months</td>\n",
       "      <td>11.71</td>\n",
       "      <td>0.0</td>\n",
       "      <td>MORTGAGE</td>\n",
       "      <td>92088.00</td>\n",
       "      <td>debt_consolidation</td>\n",
       "      <td>FL</td>\n",
       "      <td>15.31</td>\n",
       "      <td>0.0</td>\n",
       "      <td>52.3</td>\n",
       "      <td>30.0</td>\n",
       "      <td>0</td>\n",
       "      <td>24.0</td>\n",
       "      <td>verified</td>\n",
       "    </tr>\n",
       "    <tr>\n",
       "      <th>11777</th>\n",
       "      <td>8000</td>\n",
       "      <td>36 months</td>\n",
       "      <td>14.65</td>\n",
       "      <td>10.0</td>\n",
       "      <td>RENT</td>\n",
       "      <td>50000.00</td>\n",
       "      <td>debt_consolidation</td>\n",
       "      <td>VA</td>\n",
       "      <td>0.77</td>\n",
       "      <td>0.0</td>\n",
       "      <td>26.9</td>\n",
       "      <td>7.0</td>\n",
       "      <td>0</td>\n",
       "      <td>17.0</td>\n",
       "      <td>verified</td>\n",
       "    </tr>\n",
       "    <tr>\n",
       "      <th>11778</th>\n",
       "      <td>11100</td>\n",
       "      <td>36 months</td>\n",
       "      <td>15.27</td>\n",
       "      <td>6.0</td>\n",
       "      <td>RENT</td>\n",
       "      <td>45000.00</td>\n",
       "      <td>debt_consolidation</td>\n",
       "      <td>NY</td>\n",
       "      <td>4.64</td>\n",
       "      <td>0.0</td>\n",
       "      <td>95.8</td>\n",
       "      <td>9.0</td>\n",
       "      <td>1</td>\n",
       "      <td>15.0</td>\n",
       "      <td>verified</td>\n",
       "    </tr>\n",
       "    <tr>\n",
       "      <th>11779</th>\n",
       "      <td>24725</td>\n",
       "      <td>60 months</td>\n",
       "      <td>15.61</td>\n",
       "      <td>5.0</td>\n",
       "      <td>RENT</td>\n",
       "      <td>53760.00</td>\n",
       "      <td>debt_consolidation</td>\n",
       "      <td>MA</td>\n",
       "      <td>27.75</td>\n",
       "      <td>3.0</td>\n",
       "      <td>56.3</td>\n",
       "      <td>53.0</td>\n",
       "      <td>0</td>\n",
       "      <td>28.0</td>\n",
       "      <td>verified</td>\n",
       "    </tr>\n",
       "  </tbody>\n",
       "</table>\n",
       "<p>11776 rows × 15 columns</p>\n",
       "</div>"
      ],
      "text/plain": [
       "       loan_amnt       term  int_rate  emp_length home_ownership  annual_inc  \\\n",
       "0           8875  36 months     15.80         5.0           RENT    25468.92   \n",
       "1           4800  36 months     12.69         6.0           RENT    33000.00   \n",
       "2          12000  60 months     11.67         5.0       MORTGAGE    64400.00   \n",
       "3           8000  36 months     14.27         5.0       MORTGAGE    66000.00   \n",
       "4          15000  36 months     10.99         5.0            OWN    39828.00   \n",
       "...          ...        ...       ...         ...            ...         ...   \n",
       "11775       5000  36 months     15.27         1.0       MORTGAGE    60000.00   \n",
       "11776      30000  60 months     11.71         0.0       MORTGAGE    92088.00   \n",
       "11777       8000  36 months     14.65        10.0           RENT    50000.00   \n",
       "11778      11100  36 months     15.27         6.0           RENT    45000.00   \n",
       "11779      24725  60 months     15.61         5.0           RENT    53760.00   \n",
       "\n",
       "                  purpose addr_state    dti  delinq_2yrs  revol_util  \\\n",
       "0      debt_consolidation         CT  28.51          0.0        39.6   \n",
       "1                   other         IL   4.22          0.0        96.8   \n",
       "2             credit_card         MA  12.49          0.0        65.8   \n",
       "3        home_improvement         CA   2.11          0.0         0.0   \n",
       "4      debt_consolidation         MT  15.97          0.0        62.6   \n",
       "...                   ...        ...    ...          ...         ...   \n",
       "11775    home_improvement         PA  11.72          1.0        82.8   \n",
       "11776  debt_consolidation         FL  15.31          0.0        52.3   \n",
       "11777  debt_consolidation         VA   0.77          0.0        26.9   \n",
       "11778  debt_consolidation         NY   4.64          0.0        95.8   \n",
       "11779  debt_consolidation         MA  27.75          3.0        56.3   \n",
       "\n",
       "       total_acc  bad_loan  longest_credit_length verification_status  \n",
       "0           24.0         0                   37.0            verified  \n",
       "1           18.0         0                   16.0        not verified  \n",
       "2           22.0         0                   31.0            verified  \n",
       "3           18.0         1                   30.0        not verified  \n",
       "4            7.0         0                   13.0        not verified  \n",
       "...          ...       ...                    ...                 ...  \n",
       "11775       25.0         0                   21.0        not verified  \n",
       "11776       30.0         0                   24.0            verified  \n",
       "11777        7.0         0                   17.0            verified  \n",
       "11778        9.0         1                   15.0            verified  \n",
       "11779       53.0         0                   28.0            verified  \n",
       "\n",
       "[11776 rows x 15 columns]"
      ]
     },
     "execution_count": 801,
     "metadata": {},
     "output_type": "execute_result"
    }
   ],
   "source": [
    "df"
   ]
  },
  {
   "cell_type": "code",
   "execution_count": 802,
   "metadata": {},
   "outputs": [
    {
     "data": {
      "text/plain": [
       "Text(0.5, 1.0, 'Loan amount v/s Frequency')"
      ]
     },
     "execution_count": 802,
     "metadata": {},
     "output_type": "execute_result"
    },
    {
     "data": {
      "image/png": "[encoded data removed]",
      "text/plain": [
       "<Figure size 432x288 with 1 Axes>"
      ]
     },
     "metadata": {
      "needs_background": "light"
     },
     "output_type": "display_data"
    }
   ],
   "source": [
    "plt.hist(df.loan_amnt)\n",
    "plt.xlabel(\"Loan amount\")\n",
    "plt.ylabel(\"Frequency\")\n",
    "plt.title(\"Loan amount v/s Frequency\")"
   ]
  },
  {
   "cell_type": "code",
   "execution_count": 803,
   "metadata": {},
   "outputs": [],
   "source": [
    "#from the above histogram, it can be observed that most of the people have taken loan between 1000 and 15000\n",
    "#the number of people who have taken loan amount more than 15000( frequency ) is lesser"
   ]
  },
  {
   "cell_type": "code",
   "execution_count": 804,
   "metadata": {},
   "outputs": [
    {
     "data": {
      "text/plain": [
       "{'whiskers': [<matplotlib.lines.Line2D at 0x2185b6b8>,\n",
       "  <matplotlib.lines.Line2D at 0x2185bdf0>],\n",
       " 'caps': [<matplotlib.lines.Line2D at 0x2185be98>,\n",
       "  <matplotlib.lines.Line2D at 0x21cfa6d0>],\n",
       " 'boxes': [<matplotlib.lines.Line2D at 0x1f1eb7c0>],\n",
       " 'medians': [<matplotlib.lines.Line2D at 0x21cfa070>],\n",
       " 'fliers': [<matplotlib.lines.Line2D at 0x21cfa2e0>],\n",
       " 'means': []}"
      ]
     },
     "execution_count": 804,
     "metadata": {},
     "output_type": "execute_result"
    },
    {
     "data": {
      "image/png": "[encoded data removed]",
      "text/plain": [
       "<Figure size 432x288 with 1 Axes>"
      ]
     },
     "metadata": {
      "needs_background": "light"
     },
     "output_type": "display_data"
    }
   ],
   "source": [
    "plt.boxplot(df.int_rate)"
   ]
  },
  {
   "cell_type": "code",
   "execution_count": 805,
   "metadata": {},
   "outputs": [],
   "source": [
    "#boxplot using matplotlib library\n",
    "# the minimum (Q1 - 1.5*IQR ) lies at around 5.5\n",
    "# the maximum (Q3 + 1.5*IQR ) lies at around 25.5\n",
    "# Q1 (25th percentile) is at around 8.5\n",
    "# Q3 (75th percentile) is at around 16.0\n",
    "# Median (50th percentile) is at around 12"
   ]
  },
  {
   "cell_type": "code",
   "execution_count": 806,
   "metadata": {},
   "outputs": [
    {
     "data": {
      "text/plain": [
       "<matplotlib.collections.PathCollection at 0x21d4e958>"
      ]
     },
     "execution_count": 806,
     "metadata": {},
     "output_type": "execute_result"
    },
    {
     "data": {
      "image/png": "[encoded data removed]",
      "text/plain": [
       "<Figure size 432x288 with 1 Axes>"
      ]
     },
     "metadata": {
      "needs_background": "light"
     },
     "output_type": "display_data"
    }
   ],
   "source": [
    "plt.scatter(df.loan_amnt, df.annual_inc)"
   ]
  },
  {
   "cell_type": "code",
   "execution_count": 807,
   "metadata": {},
   "outputs": [],
   "source": [
    "#scatterplot of loan amount and annual income\n",
    "#it shows how X and Y vary relatively"
   ]
  },
  {
   "cell_type": "code",
   "execution_count": 808,
   "metadata": {},
   "outputs": [
    {
     "data": {
      "text/plain": [
       "<function matplotlib.pyplot.show(close=None, block=None)>"
      ]
     },
     "execution_count": 808,
     "metadata": {},
     "output_type": "execute_result"
    },
    {
     "data": {
      "image/png": "[encoded data removed]",
      "text/plain": [
       "<Figure size 432x288 with 1 Axes>"
      ]
     },
     "metadata": {
      "needs_background": "light"
     },
     "output_type": "display_data"
    }
   ],
   "source": [
    "df.home_ownership.value_counts().plot(kind = \"bar\")\n",
    "plt.xlabel('Home Ownership')\n",
    "plt.ylabel('Frequency')\n",
    "plt.title('Bar chart')\n",
    "plt.show"
   ]
  },
  {
   "cell_type": "code",
   "execution_count": 809,
   "metadata": {},
   "outputs": [],
   "source": [
    "# The above bar chart shows, nearly 6000 people have mortgaged their house for loan\n",
    "# Around 5000 people have rented home\n",
    "# 1500 people own a home"
   ]
  },
  {
   "cell_type": "code",
   "execution_count": 810,
   "metadata": {},
   "outputs": [
    {
     "data": {
      "text/plain": [
       "Index(['loan_amnt', 'term', 'int_rate', 'emp_length', 'home_ownership',\n",
       "       'annual_inc', 'purpose', 'addr_state', 'dti', 'delinq_2yrs',\n",
       "       'revol_util', 'total_acc', 'bad_loan', 'longest_credit_length',\n",
       "       'verification_status'],\n",
       "      dtype='object')"
      ]
     },
     "execution_count": 810,
     "metadata": {},
     "output_type": "execute_result"
    }
   ],
   "source": [
    "df.columns"
   ]
  },
  {
   "cell_type": "code",
   "execution_count": 811,
   "metadata": {},
   "outputs": [
    {
     "data": {
      "text/plain": [
       "{'whiskers': [<matplotlib.lines.Line2D at 0x220e08f8>,\n",
       "  <matplotlib.lines.Line2D at 0x220e0568>],\n",
       " 'caps': [<matplotlib.lines.Line2D at 0x1efd3d78>,\n",
       "  <matplotlib.lines.Line2D at 0x233636d0>],\n",
       " 'boxes': [<matplotlib.lines.Line2D at 0x220e05c8>],\n",
       " 'medians': [<matplotlib.lines.Line2D at 0x23363ac0>],\n",
       " 'fliers': [<matplotlib.lines.Line2D at 0x23363d90>],\n",
       " 'means': []}"
      ]
     },
     "execution_count": 811,
     "metadata": {},
     "output_type": "execute_result"
    },
    {
     "data": {
      "image/png": "[encoded data removed]",
      "text/plain": [
       "<Figure size 432x288 with 1 Axes>"
      ]
     },
     "metadata": {
      "needs_background": "light"
     },
     "output_type": "display_data"
    }
   ],
   "source": [
    "#check if it has outliers\n",
    "plt.boxplot(df.loan_amnt)"
   ]
  },
  {
   "cell_type": "code",
   "execution_count": 812,
   "metadata": {
    "scrolled": true
   },
   "outputs": [
    {
     "name": "stdout",
     "output_type": "stream",
     "text": [
      "9500.0\n"
     ]
    },
    {
     "data": {
      "text/html": [
       "<div>\n",
       "<style scoped>\n",
       "    .dataframe tbody tr th:only-of-type {\n",
       "        vertical-align: middle;\n",
       "    }\n",
       "\n",
       "    .dataframe tbody tr th {\n",
       "        vertical-align: top;\n",
       "    }\n",
       "\n",
       "    .dataframe thead th {\n",
       "        text-align: right;\n",
       "    }\n",
       "</style>\n",
       "<table border=\"1\" class=\"dataframe\">\n",
       "  <thead>\n",
       "    <tr style=\"text-align: right;\">\n",
       "      <th></th>\n",
       "      <th>loan_amnt</th>\n",
       "      <th>term</th>\n",
       "      <th>int_rate</th>\n",
       "      <th>emp_length</th>\n",
       "      <th>home_ownership</th>\n",
       "      <th>annual_inc</th>\n",
       "      <th>purpose</th>\n",
       "      <th>addr_state</th>\n",
       "      <th>dti</th>\n",
       "      <th>delinq_2yrs</th>\n",
       "      <th>revol_util</th>\n",
       "      <th>total_acc</th>\n",
       "      <th>bad_loan</th>\n",
       "      <th>longest_credit_length</th>\n",
       "      <th>verification_status</th>\n",
       "    </tr>\n",
       "  </thead>\n",
       "  <tbody>\n",
       "    <tr>\n",
       "      <th>0</th>\n",
       "      <td>8875</td>\n",
       "      <td>36 months</td>\n",
       "      <td>15.80</td>\n",
       "      <td>5.0</td>\n",
       "      <td>RENT</td>\n",
       "      <td>25468.92</td>\n",
       "      <td>debt_consolidation</td>\n",
       "      <td>CT</td>\n",
       "      <td>28.51</td>\n",
       "      <td>0.0</td>\n",
       "      <td>39.6</td>\n",
       "      <td>24.0</td>\n",
       "      <td>0</td>\n",
       "      <td>37.0</td>\n",
       "      <td>verified</td>\n",
       "    </tr>\n",
       "    <tr>\n",
       "      <th>1</th>\n",
       "      <td>4800</td>\n",
       "      <td>36 months</td>\n",
       "      <td>12.69</td>\n",
       "      <td>6.0</td>\n",
       "      <td>RENT</td>\n",
       "      <td>33000.00</td>\n",
       "      <td>other</td>\n",
       "      <td>IL</td>\n",
       "      <td>4.22</td>\n",
       "      <td>0.0</td>\n",
       "      <td>96.8</td>\n",
       "      <td>18.0</td>\n",
       "      <td>0</td>\n",
       "      <td>16.0</td>\n",
       "      <td>not verified</td>\n",
       "    </tr>\n",
       "    <tr>\n",
       "      <th>2</th>\n",
       "      <td>12000</td>\n",
       "      <td>60 months</td>\n",
       "      <td>11.67</td>\n",
       "      <td>5.0</td>\n",
       "      <td>MORTGAGE</td>\n",
       "      <td>64400.00</td>\n",
       "      <td>credit_card</td>\n",
       "      <td>MA</td>\n",
       "      <td>12.49</td>\n",
       "      <td>0.0</td>\n",
       "      <td>65.8</td>\n",
       "      <td>22.0</td>\n",
       "      <td>0</td>\n",
       "      <td>31.0</td>\n",
       "      <td>verified</td>\n",
       "    </tr>\n",
       "    <tr>\n",
       "      <th>3</th>\n",
       "      <td>8000</td>\n",
       "      <td>36 months</td>\n",
       "      <td>14.27</td>\n",
       "      <td>5.0</td>\n",
       "      <td>MORTGAGE</td>\n",
       "      <td>66000.00</td>\n",
       "      <td>home_improvement</td>\n",
       "      <td>CA</td>\n",
       "      <td>2.11</td>\n",
       "      <td>0.0</td>\n",
       "      <td>0.0</td>\n",
       "      <td>18.0</td>\n",
       "      <td>1</td>\n",
       "      <td>30.0</td>\n",
       "      <td>not verified</td>\n",
       "    </tr>\n",
       "    <tr>\n",
       "      <th>4</th>\n",
       "      <td>15000</td>\n",
       "      <td>36 months</td>\n",
       "      <td>10.99</td>\n",
       "      <td>5.0</td>\n",
       "      <td>OWN</td>\n",
       "      <td>39828.00</td>\n",
       "      <td>debt_consolidation</td>\n",
       "      <td>MT</td>\n",
       "      <td>15.97</td>\n",
       "      <td>0.0</td>\n",
       "      <td>62.6</td>\n",
       "      <td>7.0</td>\n",
       "      <td>0</td>\n",
       "      <td>13.0</td>\n",
       "      <td>not verified</td>\n",
       "    </tr>\n",
       "    <tr>\n",
       "      <th>...</th>\n",
       "      <td>...</td>\n",
       "      <td>...</td>\n",
       "      <td>...</td>\n",
       "      <td>...</td>\n",
       "      <td>...</td>\n",
       "      <td>...</td>\n",
       "      <td>...</td>\n",
       "      <td>...</td>\n",
       "      <td>...</td>\n",
       "      <td>...</td>\n",
       "      <td>...</td>\n",
       "      <td>...</td>\n",
       "      <td>...</td>\n",
       "      <td>...</td>\n",
       "      <td>...</td>\n",
       "    </tr>\n",
       "    <tr>\n",
       "      <th>11774</th>\n",
       "      <td>10000</td>\n",
       "      <td>36 months</td>\n",
       "      <td>14.65</td>\n",
       "      <td>4.0</td>\n",
       "      <td>OWN</td>\n",
       "      <td>42000.00</td>\n",
       "      <td>house</td>\n",
       "      <td>FL</td>\n",
       "      <td>21.54</td>\n",
       "      <td>3.0</td>\n",
       "      <td>29.5</td>\n",
       "      <td>27.0</td>\n",
       "      <td>0</td>\n",
       "      <td>11.0</td>\n",
       "      <td>not verified</td>\n",
       "    </tr>\n",
       "    <tr>\n",
       "      <th>11775</th>\n",
       "      <td>5000</td>\n",
       "      <td>36 months</td>\n",
       "      <td>15.27</td>\n",
       "      <td>1.0</td>\n",
       "      <td>MORTGAGE</td>\n",
       "      <td>60000.00</td>\n",
       "      <td>home_improvement</td>\n",
       "      <td>PA</td>\n",
       "      <td>11.72</td>\n",
       "      <td>1.0</td>\n",
       "      <td>82.8</td>\n",
       "      <td>25.0</td>\n",
       "      <td>0</td>\n",
       "      <td>21.0</td>\n",
       "      <td>not verified</td>\n",
       "    </tr>\n",
       "    <tr>\n",
       "      <th>11777</th>\n",
       "      <td>8000</td>\n",
       "      <td>36 months</td>\n",
       "      <td>14.65</td>\n",
       "      <td>10.0</td>\n",
       "      <td>RENT</td>\n",
       "      <td>50000.00</td>\n",
       "      <td>debt_consolidation</td>\n",
       "      <td>VA</td>\n",
       "      <td>0.77</td>\n",
       "      <td>0.0</td>\n",
       "      <td>26.9</td>\n",
       "      <td>7.0</td>\n",
       "      <td>0</td>\n",
       "      <td>17.0</td>\n",
       "      <td>verified</td>\n",
       "    </tr>\n",
       "    <tr>\n",
       "      <th>11778</th>\n",
       "      <td>11100</td>\n",
       "      <td>36 months</td>\n",
       "      <td>15.27</td>\n",
       "      <td>6.0</td>\n",
       "      <td>RENT</td>\n",
       "      <td>45000.00</td>\n",
       "      <td>debt_consolidation</td>\n",
       "      <td>NY</td>\n",
       "      <td>4.64</td>\n",
       "      <td>0.0</td>\n",
       "      <td>95.8</td>\n",
       "      <td>9.0</td>\n",
       "      <td>1</td>\n",
       "      <td>15.0</td>\n",
       "      <td>verified</td>\n",
       "    </tr>\n",
       "    <tr>\n",
       "      <th>11779</th>\n",
       "      <td>24725</td>\n",
       "      <td>60 months</td>\n",
       "      <td>15.61</td>\n",
       "      <td>5.0</td>\n",
       "      <td>RENT</td>\n",
       "      <td>53760.00</td>\n",
       "      <td>debt_consolidation</td>\n",
       "      <td>MA</td>\n",
       "      <td>27.75</td>\n",
       "      <td>3.0</td>\n",
       "      <td>56.3</td>\n",
       "      <td>53.0</td>\n",
       "      <td>0</td>\n",
       "      <td>28.0</td>\n",
       "      <td>verified</td>\n",
       "    </tr>\n",
       "  </tbody>\n",
       "</table>\n",
       "<p>11237 rows × 15 columns</p>\n",
       "</div>"
      ],
      "text/plain": [
       "       loan_amnt       term  int_rate  emp_length home_ownership  annual_inc  \\\n",
       "0           8875  36 months     15.80         5.0           RENT    25468.92   \n",
       "1           4800  36 months     12.69         6.0           RENT    33000.00   \n",
       "2          12000  60 months     11.67         5.0       MORTGAGE    64400.00   \n",
       "3           8000  36 months     14.27         5.0       MORTGAGE    66000.00   \n",
       "4          15000  36 months     10.99         5.0            OWN    39828.00   \n",
       "...          ...        ...       ...         ...            ...         ...   \n",
       "11774      10000  36 months     14.65         4.0            OWN    42000.00   \n",
       "11775       5000  36 months     15.27         1.0       MORTGAGE    60000.00   \n",
       "11777       8000  36 months     14.65        10.0           RENT    50000.00   \n",
       "11778      11100  36 months     15.27         6.0           RENT    45000.00   \n",
       "11779      24725  60 months     15.61         5.0           RENT    53760.00   \n",
       "\n",
       "                  purpose addr_state    dti  delinq_2yrs  revol_util  \\\n",
       "0      debt_consolidation         CT  28.51          0.0        39.6   \n",
       "1                   other         IL   4.22          0.0        96.8   \n",
       "2             credit_card         MA  12.49          0.0        65.8   \n",
       "3        home_improvement         CA   2.11          0.0         0.0   \n",
       "4      debt_consolidation         MT  15.97          0.0        62.6   \n",
       "...                   ...        ...    ...          ...         ...   \n",
       "11774               house         FL  21.54          3.0        29.5   \n",
       "11775    home_improvement         PA  11.72          1.0        82.8   \n",
       "11777  debt_consolidation         VA   0.77          0.0        26.9   \n",
       "11778  debt_consolidation         NY   4.64          0.0        95.8   \n",
       "11779  debt_consolidation         MA  27.75          3.0        56.3   \n",
       "\n",
       "       total_acc  bad_loan  longest_credit_length verification_status  \n",
       "0           24.0         0                   37.0            verified  \n",
       "1           18.0         0                   16.0        not verified  \n",
       "2           22.0         0                   31.0            verified  \n",
       "3           18.0         1                   30.0        not verified  \n",
       "4            7.0         0                   13.0        not verified  \n",
       "...          ...       ...                    ...                 ...  \n",
       "11774       27.0         0                   11.0        not verified  \n",
       "11775       25.0         0                   21.0        not verified  \n",
       "11777        7.0         0                   17.0            verified  \n",
       "11778        9.0         1                   15.0            verified  \n",
       "11779       53.0         0                   28.0            verified  \n",
       "\n",
       "[11237 rows x 15 columns]"
      ]
     },
     "execution_count": 812,
     "metadata": {},
     "output_type": "execute_result"
    }
   ],
   "source": [
    "Q1 = df['loan_amnt'].quantile(0.25)\n",
    "Q3 = df['loan_amnt'].quantile(0.75)\n",
    "IQR = Q3 - Q1\n",
    "print(IQR)\n",
    "filter = (df['loan_amnt'] >= Q1 - 1.5 * IQR) & (df['loan_amnt'] <= Q3 + 1.5 *IQR)\n",
    "df.loc[filter]"
   ]
  },
  {
   "cell_type": "code",
   "execution_count": 813,
   "metadata": {},
   "outputs": [],
   "source": [
    "#outliers from  loan_amnt deleted\n",
    "df = df.loc[filter]"
   ]
  },
  {
   "cell_type": "code",
   "execution_count": 814,
   "metadata": {},
   "outputs": [
    {
     "data": {
      "text/plain": [
       "Index(['loan_amnt', 'term', 'int_rate', 'emp_length', 'home_ownership',\n",
       "       'annual_inc', 'purpose', 'addr_state', 'dti', 'delinq_2yrs',\n",
       "       'revol_util', 'total_acc', 'bad_loan', 'longest_credit_length',\n",
       "       'verification_status'],\n",
       "      dtype='object')"
      ]
     },
     "execution_count": 814,
     "metadata": {},
     "output_type": "execute_result"
    }
   ],
   "source": [
    "df.columns"
   ]
  },
  {
   "cell_type": "code",
   "execution_count": 815,
   "metadata": {},
   "outputs": [
    {
     "data": {
      "text/plain": [
       "<function matplotlib.pyplot.show(close=None, block=None)>"
      ]
     },
     "execution_count": 815,
     "metadata": {},
     "output_type": "execute_result"
    },
    {
     "data": {
      "image/png": "[encoded data removed]",
      "text/plain": [
       "<Figure size 432x288 with 1 Axes>"
      ]
     },
     "metadata": {
      "needs_background": "light"
     },
     "output_type": "display_data"
    }
   ],
   "source": [
    "#check if this column has outliers. Since it is a categorical data, bar chart is used\n",
    "df.term.value_counts().plot(kind = \"bar\")\n",
    "plt.xlabel('Term')\n",
    "plt.ylabel('Frequency')\n",
    "plt.show"
   ]
  },
  {
   "cell_type": "code",
   "execution_count": 816,
   "metadata": {},
   "outputs": [],
   "source": [
    "# No outliers seen"
   ]
  },
  {
   "cell_type": "code",
   "execution_count": 817,
   "metadata": {},
   "outputs": [
    {
     "data": {
      "text/plain": [
       "{'whiskers': [<matplotlib.lines.Line2D at 0x12c116a0>,\n",
       "  <matplotlib.lines.Line2D at 0x12c11850>],\n",
       " 'caps': [<matplotlib.lines.Line2D at 0x12c11a00>,\n",
       "  <matplotlib.lines.Line2D at 0x12c11bb0>],\n",
       " 'boxes': [<matplotlib.lines.Line2D at 0x12c114f0>],\n",
       " 'medians': [<matplotlib.lines.Line2D at 0x12c11d60>],\n",
       " 'fliers': [<matplotlib.lines.Line2D at 0x12c11f10>],\n",
       " 'means': []}"
      ]
     },
     "execution_count": 817,
     "metadata": {},
     "output_type": "execute_result"
    },
    {
     "data": {
      "image/png": "[encoded data removed]",
      "text/plain": [
       "<Figure size 432x288 with 1 Axes>"
      ]
     },
     "metadata": {
      "needs_background": "light"
     },
     "output_type": "display_data"
    }
   ],
   "source": [
    "#check for outliers in int_rate column\n",
    "plt.boxplot(df.int_rate)"
   ]
  },
  {
   "cell_type": "code",
   "execution_count": 818,
   "metadata": {},
   "outputs": [
    {
     "name": "stdout",
     "output_type": "stream",
     "text": [
      "9.17 15.96\n",
      "6.790000000000001\n"
     ]
    },
    {
     "data": {
      "text/html": [
       "<div>\n",
       "<style scoped>\n",
       "    .dataframe tbody tr th:only-of-type {\n",
       "        vertical-align: middle;\n",
       "    }\n",
       "\n",
       "    .dataframe tbody tr th {\n",
       "        vertical-align: top;\n",
       "    }\n",
       "\n",
       "    .dataframe thead th {\n",
       "        text-align: right;\n",
       "    }\n",
       "</style>\n",
       "<table border=\"1\" class=\"dataframe\">\n",
       "  <thead>\n",
       "    <tr style=\"text-align: right;\">\n",
       "      <th></th>\n",
       "      <th>loan_amnt</th>\n",
       "      <th>term</th>\n",
       "      <th>int_rate</th>\n",
       "      <th>emp_length</th>\n",
       "      <th>home_ownership</th>\n",
       "      <th>annual_inc</th>\n",
       "      <th>purpose</th>\n",
       "      <th>addr_state</th>\n",
       "      <th>dti</th>\n",
       "      <th>delinq_2yrs</th>\n",
       "      <th>revol_util</th>\n",
       "      <th>total_acc</th>\n",
       "      <th>bad_loan</th>\n",
       "      <th>longest_credit_length</th>\n",
       "      <th>verification_status</th>\n",
       "    </tr>\n",
       "  </thead>\n",
       "  <tbody>\n",
       "    <tr>\n",
       "      <th>0</th>\n",
       "      <td>8875</td>\n",
       "      <td>36 months</td>\n",
       "      <td>15.80</td>\n",
       "      <td>5.0</td>\n",
       "      <td>RENT</td>\n",
       "      <td>25468.92</td>\n",
       "      <td>debt_consolidation</td>\n",
       "      <td>CT</td>\n",
       "      <td>28.51</td>\n",
       "      <td>0.0</td>\n",
       "      <td>39.6</td>\n",
       "      <td>24.0</td>\n",
       "      <td>0</td>\n",
       "      <td>37.0</td>\n",
       "      <td>verified</td>\n",
       "    </tr>\n",
       "    <tr>\n",
       "      <th>1</th>\n",
       "      <td>4800</td>\n",
       "      <td>36 months</td>\n",
       "      <td>12.69</td>\n",
       "      <td>6.0</td>\n",
       "      <td>RENT</td>\n",
       "      <td>33000.00</td>\n",
       "      <td>other</td>\n",
       "      <td>IL</td>\n",
       "      <td>4.22</td>\n",
       "      <td>0.0</td>\n",
       "      <td>96.8</td>\n",
       "      <td>18.0</td>\n",
       "      <td>0</td>\n",
       "      <td>16.0</td>\n",
       "      <td>not verified</td>\n",
       "    </tr>\n",
       "    <tr>\n",
       "      <th>2</th>\n",
       "      <td>12000</td>\n",
       "      <td>60 months</td>\n",
       "      <td>11.67</td>\n",
       "      <td>5.0</td>\n",
       "      <td>MORTGAGE</td>\n",
       "      <td>64400.00</td>\n",
       "      <td>credit_card</td>\n",
       "      <td>MA</td>\n",
       "      <td>12.49</td>\n",
       "      <td>0.0</td>\n",
       "      <td>65.8</td>\n",
       "      <td>22.0</td>\n",
       "      <td>0</td>\n",
       "      <td>31.0</td>\n",
       "      <td>verified</td>\n",
       "    </tr>\n",
       "    <tr>\n",
       "      <th>3</th>\n",
       "      <td>8000</td>\n",
       "      <td>36 months</td>\n",
       "      <td>14.27</td>\n",
       "      <td>5.0</td>\n",
       "      <td>MORTGAGE</td>\n",
       "      <td>66000.00</td>\n",
       "      <td>home_improvement</td>\n",
       "      <td>CA</td>\n",
       "      <td>2.11</td>\n",
       "      <td>0.0</td>\n",
       "      <td>0.0</td>\n",
       "      <td>18.0</td>\n",
       "      <td>1</td>\n",
       "      <td>30.0</td>\n",
       "      <td>not verified</td>\n",
       "    </tr>\n",
       "    <tr>\n",
       "      <th>4</th>\n",
       "      <td>15000</td>\n",
       "      <td>36 months</td>\n",
       "      <td>10.99</td>\n",
       "      <td>5.0</td>\n",
       "      <td>OWN</td>\n",
       "      <td>39828.00</td>\n",
       "      <td>debt_consolidation</td>\n",
       "      <td>MT</td>\n",
       "      <td>15.97</td>\n",
       "      <td>0.0</td>\n",
       "      <td>62.6</td>\n",
       "      <td>7.0</td>\n",
       "      <td>0</td>\n",
       "      <td>13.0</td>\n",
       "      <td>not verified</td>\n",
       "    </tr>\n",
       "    <tr>\n",
       "      <th>...</th>\n",
       "      <td>...</td>\n",
       "      <td>...</td>\n",
       "      <td>...</td>\n",
       "      <td>...</td>\n",
       "      <td>...</td>\n",
       "      <td>...</td>\n",
       "      <td>...</td>\n",
       "      <td>...</td>\n",
       "      <td>...</td>\n",
       "      <td>...</td>\n",
       "      <td>...</td>\n",
       "      <td>...</td>\n",
       "      <td>...</td>\n",
       "      <td>...</td>\n",
       "      <td>...</td>\n",
       "    </tr>\n",
       "    <tr>\n",
       "      <th>11774</th>\n",
       "      <td>10000</td>\n",
       "      <td>36 months</td>\n",
       "      <td>14.65</td>\n",
       "      <td>4.0</td>\n",
       "      <td>OWN</td>\n",
       "      <td>42000.00</td>\n",
       "      <td>house</td>\n",
       "      <td>FL</td>\n",
       "      <td>21.54</td>\n",
       "      <td>3.0</td>\n",
       "      <td>29.5</td>\n",
       "      <td>27.0</td>\n",
       "      <td>0</td>\n",
       "      <td>11.0</td>\n",
       "      <td>not verified</td>\n",
       "    </tr>\n",
       "    <tr>\n",
       "      <th>11775</th>\n",
       "      <td>5000</td>\n",
       "      <td>36 months</td>\n",
       "      <td>15.27</td>\n",
       "      <td>1.0</td>\n",
       "      <td>MORTGAGE</td>\n",
       "      <td>60000.00</td>\n",
       "      <td>home_improvement</td>\n",
       "      <td>PA</td>\n",
       "      <td>11.72</td>\n",
       "      <td>1.0</td>\n",
       "      <td>82.8</td>\n",
       "      <td>25.0</td>\n",
       "      <td>0</td>\n",
       "      <td>21.0</td>\n",
       "      <td>not verified</td>\n",
       "    </tr>\n",
       "    <tr>\n",
       "      <th>11777</th>\n",
       "      <td>8000</td>\n",
       "      <td>36 months</td>\n",
       "      <td>14.65</td>\n",
       "      <td>10.0</td>\n",
       "      <td>RENT</td>\n",
       "      <td>50000.00</td>\n",
       "      <td>debt_consolidation</td>\n",
       "      <td>VA</td>\n",
       "      <td>0.77</td>\n",
       "      <td>0.0</td>\n",
       "      <td>26.9</td>\n",
       "      <td>7.0</td>\n",
       "      <td>0</td>\n",
       "      <td>17.0</td>\n",
       "      <td>verified</td>\n",
       "    </tr>\n",
       "    <tr>\n",
       "      <th>11778</th>\n",
       "      <td>11100</td>\n",
       "      <td>36 months</td>\n",
       "      <td>15.27</td>\n",
       "      <td>6.0</td>\n",
       "      <td>RENT</td>\n",
       "      <td>45000.00</td>\n",
       "      <td>debt_consolidation</td>\n",
       "      <td>NY</td>\n",
       "      <td>4.64</td>\n",
       "      <td>0.0</td>\n",
       "      <td>95.8</td>\n",
       "      <td>9.0</td>\n",
       "      <td>1</td>\n",
       "      <td>15.0</td>\n",
       "      <td>verified</td>\n",
       "    </tr>\n",
       "    <tr>\n",
       "      <th>11779</th>\n",
       "      <td>24725</td>\n",
       "      <td>60 months</td>\n",
       "      <td>15.61</td>\n",
       "      <td>5.0</td>\n",
       "      <td>RENT</td>\n",
       "      <td>53760.00</td>\n",
       "      <td>debt_consolidation</td>\n",
       "      <td>MA</td>\n",
       "      <td>27.75</td>\n",
       "      <td>3.0</td>\n",
       "      <td>56.3</td>\n",
       "      <td>53.0</td>\n",
       "      <td>0</td>\n",
       "      <td>28.0</td>\n",
       "      <td>verified</td>\n",
       "    </tr>\n",
       "  </tbody>\n",
       "</table>\n",
       "<p>11237 rows × 15 columns</p>\n",
       "</div>"
      ],
      "text/plain": [
       "       loan_amnt       term  int_rate  emp_length home_ownership  annual_inc  \\\n",
       "0           8875  36 months     15.80         5.0           RENT    25468.92   \n",
       "1           4800  36 months     12.69         6.0           RENT    33000.00   \n",
       "2          12000  60 months     11.67         5.0       MORTGAGE    64400.00   \n",
       "3           8000  36 months     14.27         5.0       MORTGAGE    66000.00   \n",
       "4          15000  36 months     10.99         5.0            OWN    39828.00   \n",
       "...          ...        ...       ...         ...            ...         ...   \n",
       "11774      10000  36 months     14.65         4.0            OWN    42000.00   \n",
       "11775       5000  36 months     15.27         1.0       MORTGAGE    60000.00   \n",
       "11777       8000  36 months     14.65        10.0           RENT    50000.00   \n",
       "11778      11100  36 months     15.27         6.0           RENT    45000.00   \n",
       "11779      24725  60 months     15.61         5.0           RENT    53760.00   \n",
       "\n",
       "                  purpose addr_state    dti  delinq_2yrs  revol_util  \\\n",
       "0      debt_consolidation         CT  28.51          0.0        39.6   \n",
       "1                   other         IL   4.22          0.0        96.8   \n",
       "2             credit_card         MA  12.49          0.0        65.8   \n",
       "3        home_improvement         CA   2.11          0.0         0.0   \n",
       "4      debt_consolidation         MT  15.97          0.0        62.6   \n",
       "...                   ...        ...    ...          ...         ...   \n",
       "11774               house         FL  21.54          3.0        29.5   \n",
       "11775    home_improvement         PA  11.72          1.0        82.8   \n",
       "11777  debt_consolidation         VA   0.77          0.0        26.9   \n",
       "11778  debt_consolidation         NY   4.64          0.0        95.8   \n",
       "11779  debt_consolidation         MA  27.75          3.0        56.3   \n",
       "\n",
       "       total_acc  bad_loan  longest_credit_length verification_status  \n",
       "0           24.0         0                   37.0            verified  \n",
       "1           18.0         0                   16.0        not verified  \n",
       "2           22.0         0                   31.0            verified  \n",
       "3           18.0         1                   30.0        not verified  \n",
       "4            7.0         0                   13.0        not verified  \n",
       "...          ...       ...                    ...                 ...  \n",
       "11774       27.0         0                   11.0        not verified  \n",
       "11775       25.0         0                   21.0        not verified  \n",
       "11777        7.0         0                   17.0            verified  \n",
       "11778        9.0         1                   15.0            verified  \n",
       "11779       53.0         0                   28.0            verified  \n",
       "\n",
       "[11237 rows x 15 columns]"
      ]
     },
     "execution_count": 818,
     "metadata": {},
     "output_type": "execute_result"
    }
   ],
   "source": [
    "#remove outliers\n",
    "Q1 = df['int_rate'].quantile(0.25)\n",
    "Q3 = df['int_rate'].quantile(0.75)\n",
    "IQR = Q3 - Q1\n",
    "print(Q1,Q3)\n",
    "print(IQR)\n",
    "filter = (df['int_rate'] >= Q1 - 1.5 * IQR) & (df['int_rate'] <= Q3 + 1.5 *IQR)\n",
    "df.loc[filter]"
   ]
  },
  {
   "cell_type": "code",
   "execution_count": 819,
   "metadata": {},
   "outputs": [],
   "source": [
    "# the outliers for int_rate column are removed\n",
    "df = df.loc[filter]"
   ]
  },
  {
   "cell_type": "code",
   "execution_count": 820,
   "metadata": {},
   "outputs": [
    {
     "data": {
      "text/plain": [
       "{'whiskers': [<matplotlib.lines.Line2D at 0x23402820>,\n",
       "  <matplotlib.lines.Line2D at 0x234029d0>],\n",
       " 'caps': [<matplotlib.lines.Line2D at 0x23402b80>,\n",
       "  <matplotlib.lines.Line2D at 0x23402d30>],\n",
       " 'boxes': [<matplotlib.lines.Line2D at 0x23402670>],\n",
       " 'medians': [<matplotlib.lines.Line2D at 0x23402ee0>],\n",
       " 'fliers': [<matplotlib.lines.Line2D at 0x2340e0b8>],\n",
       " 'means': []}"
      ]
     },
     "execution_count": 820,
     "metadata": {},
     "output_type": "execute_result"
    },
    {
     "data": {
      "image/png": "[encoded data removed]",
      "text/plain": [
       "<Figure size 432x288 with 1 Axes>"
      ]
     },
     "metadata": {
      "needs_background": "light"
     },
     "output_type": "display_data"
    }
   ],
   "source": [
    "# Check for outliers in emp_length column\n",
    "plt.boxplot(df.emp_length)"
   ]
  },
  {
   "cell_type": "code",
   "execution_count": 821,
   "metadata": {},
   "outputs": [],
   "source": [
    "#no unwanted outliers seen"
   ]
  },
  {
   "cell_type": "code",
   "execution_count": 822,
   "metadata": {},
   "outputs": [
    {
     "data": {
      "text/plain": [
       "<function matplotlib.pyplot.show(close=None, block=None)>"
      ]
     },
     "execution_count": 822,
     "metadata": {},
     "output_type": "execute_result"
    },
    {
     "data": {
      "image/png": "[encoded data removed]",
      "text/plain": [
       "<Figure size 432x288 with 1 Axes>"
      ]
     },
     "metadata": {
      "needs_background": "light"
     },
     "output_type": "display_data"
    }
   ],
   "source": [
    "#check for outliers in home_ownership. It is a categorical data\n",
    "df.home_ownership.value_counts().plot(kind = \"bar\")\n",
    "plt.xlabel('Home_Ownership')\n",
    "plt.ylabel('Frequency')\n",
    "plt.show"
   ]
  },
  {
   "cell_type": "code",
   "execution_count": 823,
   "metadata": {},
   "outputs": [],
   "source": [
    "# no outliers"
   ]
  },
  {
   "cell_type": "code",
   "execution_count": 824,
   "metadata": {},
   "outputs": [
    {
     "data": {
      "text/plain": [
       "{'whiskers': [<matplotlib.lines.Line2D at 0x12d93280>,\n",
       "  <matplotlib.lines.Line2D at 0x12d93430>],\n",
       " 'caps': [<matplotlib.lines.Line2D at 0x12d935e0>,\n",
       "  <matplotlib.lines.Line2D at 0x12d93790>],\n",
       " 'boxes': [<matplotlib.lines.Line2D at 0x12d930d0>],\n",
       " 'medians': [<matplotlib.lines.Line2D at 0x12d93940>],\n",
       " 'fliers': [<matplotlib.lines.Line2D at 0x12d93af0>],\n",
       " 'means': []}"
      ]
     },
     "execution_count": 824,
     "metadata": {},
     "output_type": "execute_result"
    },
    {
     "data": {
      "image/png": "[encoded data removed]",
      "text/plain": [
       "<Figure size 432x288 with 1 Axes>"
      ]
     },
     "metadata": {
      "needs_background": "light"
     },
     "output_type": "display_data"
    }
   ],
   "source": [
    "# Check for unwanted outliers in annual_inc column\n",
    "plt.boxplot(df.annual_inc)"
   ]
  },
  {
   "cell_type": "code",
   "execution_count": 825,
   "metadata": {},
   "outputs": [],
   "source": [
    "# There are quite a number of outliers, so they are not unwanted outliers"
   ]
  },
  {
   "cell_type": "code",
   "execution_count": 826,
   "metadata": {},
   "outputs": [],
   "source": [
    "#Check the purpose column"
   ]
  },
  {
   "cell_type": "code",
   "execution_count": 827,
   "metadata": {},
   "outputs": [
    {
     "data": {
      "text/plain": [
       "<function matplotlib.pyplot.show(close=None, block=None)>"
      ]
     },
     "execution_count": 827,
     "metadata": {},
     "output_type": "execute_result"
    },
    {
     "data": {
      "image/png": "[encoded data removed]",
      "text/plain": [
       "<Figure size 432x288 with 1 Axes>"
      ]
     },
     "metadata": {
      "needs_background": "light"
     },
     "output_type": "display_data"
    }
   ],
   "source": [
    "df.purpose.value_counts().plot(kind = \"bar\")\n",
    "plt.xlabel('Purpose')\n",
    "plt.ylabel('Frequency')\n",
    "plt.show"
   ]
  },
  {
   "cell_type": "code",
   "execution_count": 828,
   "metadata": {},
   "outputs": [],
   "source": [
    "# The Categorical data has no outliers"
   ]
  },
  {
   "cell_type": "code",
   "execution_count": 829,
   "metadata": {},
   "outputs": [
    {
     "data": {
      "text/plain": [
       "<function matplotlib.pyplot.show(close=None, block=None)>"
      ]
     },
     "execution_count": 829,
     "metadata": {},
     "output_type": "execute_result"
    },
    {
     "data": {
      "image/png": "[encoded data removed]",
      "text/plain": [
       "<Figure size 432x288 with 1 Axes>"
      ]
     },
     "metadata": {
      "needs_background": "light"
     },
     "output_type": "display_data"
    }
   ],
   "source": [
    "# Similarly check the addr_state column\n",
    "df.addr_state.value_counts().plot(kind = \"bar\")\n",
    "plt.xlabel('State')\n",
    "plt.ylabel('Frequency')\n",
    "plt.show"
   ]
  },
  {
   "cell_type": "code",
   "execution_count": 830,
   "metadata": {},
   "outputs": [],
   "source": [
    "# Check for dti column"
   ]
  },
  {
   "cell_type": "code",
   "execution_count": 831,
   "metadata": {},
   "outputs": [
    {
     "data": {
      "text/plain": [
       "{'whiskers': [<matplotlib.lines.Line2D at 0x12c95118>,\n",
       "  <matplotlib.lines.Line2D at 0x12c952c8>],\n",
       " 'caps': [<matplotlib.lines.Line2D at 0x12c95478>,\n",
       "  <matplotlib.lines.Line2D at 0x12c95628>],\n",
       " 'boxes': [<matplotlib.lines.Line2D at 0x21c78f40>],\n",
       " 'medians': [<matplotlib.lines.Line2D at 0x12c957d8>],\n",
       " 'fliers': [<matplotlib.lines.Line2D at 0x12c95988>],\n",
       " 'means': []}"
      ]
     },
     "execution_count": 831,
     "metadata": {},
     "output_type": "execute_result"
    },
    {
     "data": {
      "image/png": "[encoded data removed]",
      "text/plain": [
       "<Figure size 432x288 with 1 Axes>"
      ]
     },
     "metadata": {
      "needs_background": "light"
     },
     "output_type": "display_data"
    }
   ],
   "source": [
    "plt.boxplot(df.dti)"
   ]
  },
  {
   "cell_type": "code",
   "execution_count": 832,
   "metadata": {},
   "outputs": [
    {
     "name": "stdout",
     "output_type": "stream",
     "text": [
      "9.65 20.81\n",
      "11.159999999999998\n"
     ]
    },
    {
     "data": {
      "text/html": [
       "<div>\n",
       "<style scoped>\n",
       "    .dataframe tbody tr th:only-of-type {\n",
       "        vertical-align: middle;\n",
       "    }\n",
       "\n",
       "    .dataframe tbody tr th {\n",
       "        vertical-align: top;\n",
       "    }\n",
       "\n",
       "    .dataframe thead th {\n",
       "        text-align: right;\n",
       "    }\n",
       "</style>\n",
       "<table border=\"1\" class=\"dataframe\">\n",
       "  <thead>\n",
       "    <tr style=\"text-align: right;\">\n",
       "      <th></th>\n",
       "      <th>loan_amnt</th>\n",
       "      <th>term</th>\n",
       "      <th>int_rate</th>\n",
       "      <th>emp_length</th>\n",
       "      <th>home_ownership</th>\n",
       "      <th>annual_inc</th>\n",
       "      <th>purpose</th>\n",
       "      <th>addr_state</th>\n",
       "      <th>dti</th>\n",
       "      <th>delinq_2yrs</th>\n",
       "      <th>revol_util</th>\n",
       "      <th>total_acc</th>\n",
       "      <th>bad_loan</th>\n",
       "      <th>longest_credit_length</th>\n",
       "      <th>verification_status</th>\n",
       "    </tr>\n",
       "  </thead>\n",
       "  <tbody>\n",
       "    <tr>\n",
       "      <th>0</th>\n",
       "      <td>8875</td>\n",
       "      <td>36 months</td>\n",
       "      <td>15.80</td>\n",
       "      <td>5.0</td>\n",
       "      <td>RENT</td>\n",
       "      <td>25468.92</td>\n",
       "      <td>debt_consolidation</td>\n",
       "      <td>CT</td>\n",
       "      <td>28.51</td>\n",
       "      <td>0.0</td>\n",
       "      <td>39.6</td>\n",
       "      <td>24.0</td>\n",
       "      <td>0</td>\n",
       "      <td>37.0</td>\n",
       "      <td>verified</td>\n",
       "    </tr>\n",
       "    <tr>\n",
       "      <th>1</th>\n",
       "      <td>4800</td>\n",
       "      <td>36 months</td>\n",
       "      <td>12.69</td>\n",
       "      <td>6.0</td>\n",
       "      <td>RENT</td>\n",
       "      <td>33000.00</td>\n",
       "      <td>other</td>\n",
       "      <td>IL</td>\n",
       "      <td>4.22</td>\n",
       "      <td>0.0</td>\n",
       "      <td>96.8</td>\n",
       "      <td>18.0</td>\n",
       "      <td>0</td>\n",
       "      <td>16.0</td>\n",
       "      <td>not verified</td>\n",
       "    </tr>\n",
       "    <tr>\n",
       "      <th>2</th>\n",
       "      <td>12000</td>\n",
       "      <td>60 months</td>\n",
       "      <td>11.67</td>\n",
       "      <td>5.0</td>\n",
       "      <td>MORTGAGE</td>\n",
       "      <td>64400.00</td>\n",
       "      <td>credit_card</td>\n",
       "      <td>MA</td>\n",
       "      <td>12.49</td>\n",
       "      <td>0.0</td>\n",
       "      <td>65.8</td>\n",
       "      <td>22.0</td>\n",
       "      <td>0</td>\n",
       "      <td>31.0</td>\n",
       "      <td>verified</td>\n",
       "    </tr>\n",
       "    <tr>\n",
       "      <th>3</th>\n",
       "      <td>8000</td>\n",
       "      <td>36 months</td>\n",
       "      <td>14.27</td>\n",
       "      <td>5.0</td>\n",
       "      <td>MORTGAGE</td>\n",
       "      <td>66000.00</td>\n",
       "      <td>home_improvement</td>\n",
       "      <td>CA</td>\n",
       "      <td>2.11</td>\n",
       "      <td>0.0</td>\n",
       "      <td>0.0</td>\n",
       "      <td>18.0</td>\n",
       "      <td>1</td>\n",
       "      <td>30.0</td>\n",
       "      <td>not verified</td>\n",
       "    </tr>\n",
       "    <tr>\n",
       "      <th>4</th>\n",
       "      <td>15000</td>\n",
       "      <td>36 months</td>\n",
       "      <td>10.99</td>\n",
       "      <td>5.0</td>\n",
       "      <td>OWN</td>\n",
       "      <td>39828.00</td>\n",
       "      <td>debt_consolidation</td>\n",
       "      <td>MT</td>\n",
       "      <td>15.97</td>\n",
       "      <td>0.0</td>\n",
       "      <td>62.6</td>\n",
       "      <td>7.0</td>\n",
       "      <td>0</td>\n",
       "      <td>13.0</td>\n",
       "      <td>not verified</td>\n",
       "    </tr>\n",
       "    <tr>\n",
       "      <th>...</th>\n",
       "      <td>...</td>\n",
       "      <td>...</td>\n",
       "      <td>...</td>\n",
       "      <td>...</td>\n",
       "      <td>...</td>\n",
       "      <td>...</td>\n",
       "      <td>...</td>\n",
       "      <td>...</td>\n",
       "      <td>...</td>\n",
       "      <td>...</td>\n",
       "      <td>...</td>\n",
       "      <td>...</td>\n",
       "      <td>...</td>\n",
       "      <td>...</td>\n",
       "      <td>...</td>\n",
       "    </tr>\n",
       "    <tr>\n",
       "      <th>11774</th>\n",
       "      <td>10000</td>\n",
       "      <td>36 months</td>\n",
       "      <td>14.65</td>\n",
       "      <td>4.0</td>\n",
       "      <td>OWN</td>\n",
       "      <td>42000.00</td>\n",
       "      <td>house</td>\n",
       "      <td>FL</td>\n",
       "      <td>21.54</td>\n",
       "      <td>3.0</td>\n",
       "      <td>29.5</td>\n",
       "      <td>27.0</td>\n",
       "      <td>0</td>\n",
       "      <td>11.0</td>\n",
       "      <td>not verified</td>\n",
       "    </tr>\n",
       "    <tr>\n",
       "      <th>11775</th>\n",
       "      <td>5000</td>\n",
       "      <td>36 months</td>\n",
       "      <td>15.27</td>\n",
       "      <td>1.0</td>\n",
       "      <td>MORTGAGE</td>\n",
       "      <td>60000.00</td>\n",
       "      <td>home_improvement</td>\n",
       "      <td>PA</td>\n",
       "      <td>11.72</td>\n",
       "      <td>1.0</td>\n",
       "      <td>82.8</td>\n",
       "      <td>25.0</td>\n",
       "      <td>0</td>\n",
       "      <td>21.0</td>\n",
       "      <td>not verified</td>\n",
       "    </tr>\n",
       "    <tr>\n",
       "      <th>11777</th>\n",
       "      <td>8000</td>\n",
       "      <td>36 months</td>\n",
       "      <td>14.65</td>\n",
       "      <td>10.0</td>\n",
       "      <td>RENT</td>\n",
       "      <td>50000.00</td>\n",
       "      <td>debt_consolidation</td>\n",
       "      <td>VA</td>\n",
       "      <td>0.77</td>\n",
       "      <td>0.0</td>\n",
       "      <td>26.9</td>\n",
       "      <td>7.0</td>\n",
       "      <td>0</td>\n",
       "      <td>17.0</td>\n",
       "      <td>verified</td>\n",
       "    </tr>\n",
       "    <tr>\n",
       "      <th>11778</th>\n",
       "      <td>11100</td>\n",
       "      <td>36 months</td>\n",
       "      <td>15.27</td>\n",
       "      <td>6.0</td>\n",
       "      <td>RENT</td>\n",
       "      <td>45000.00</td>\n",
       "      <td>debt_consolidation</td>\n",
       "      <td>NY</td>\n",
       "      <td>4.64</td>\n",
       "      <td>0.0</td>\n",
       "      <td>95.8</td>\n",
       "      <td>9.0</td>\n",
       "      <td>1</td>\n",
       "      <td>15.0</td>\n",
       "      <td>verified</td>\n",
       "    </tr>\n",
       "    <tr>\n",
       "      <th>11779</th>\n",
       "      <td>24725</td>\n",
       "      <td>60 months</td>\n",
       "      <td>15.61</td>\n",
       "      <td>5.0</td>\n",
       "      <td>RENT</td>\n",
       "      <td>53760.00</td>\n",
       "      <td>debt_consolidation</td>\n",
       "      <td>MA</td>\n",
       "      <td>27.75</td>\n",
       "      <td>3.0</td>\n",
       "      <td>56.3</td>\n",
       "      <td>53.0</td>\n",
       "      <td>0</td>\n",
       "      <td>28.0</td>\n",
       "      <td>verified</td>\n",
       "    </tr>\n",
       "  </tbody>\n",
       "</table>\n",
       "<p>11225 rows × 15 columns</p>\n",
       "</div>"
      ],
      "text/plain": [
       "       loan_amnt       term  int_rate  emp_length home_ownership  annual_inc  \\\n",
       "0           8875  36 months     15.80         5.0           RENT    25468.92   \n",
       "1           4800  36 months     12.69         6.0           RENT    33000.00   \n",
       "2          12000  60 months     11.67         5.0       MORTGAGE    64400.00   \n",
       "3           8000  36 months     14.27         5.0       MORTGAGE    66000.00   \n",
       "4          15000  36 months     10.99         5.0            OWN    39828.00   \n",
       "...          ...        ...       ...         ...            ...         ...   \n",
       "11774      10000  36 months     14.65         4.0            OWN    42000.00   \n",
       "11775       5000  36 months     15.27         1.0       MORTGAGE    60000.00   \n",
       "11777       8000  36 months     14.65        10.0           RENT    50000.00   \n",
       "11778      11100  36 months     15.27         6.0           RENT    45000.00   \n",
       "11779      24725  60 months     15.61         5.0           RENT    53760.00   \n",
       "\n",
       "                  purpose addr_state    dti  delinq_2yrs  revol_util  \\\n",
       "0      debt_consolidation         CT  28.51          0.0        39.6   \n",
       "1                   other         IL   4.22          0.0        96.8   \n",
       "2             credit_card         MA  12.49          0.0        65.8   \n",
       "3        home_improvement         CA   2.11          0.0         0.0   \n",
       "4      debt_consolidation         MT  15.97          0.0        62.6   \n",
       "...                   ...        ...    ...          ...         ...   \n",
       "11774               house         FL  21.54          3.0        29.5   \n",
       "11775    home_improvement         PA  11.72          1.0        82.8   \n",
       "11777  debt_consolidation         VA   0.77          0.0        26.9   \n",
       "11778  debt_consolidation         NY   4.64          0.0        95.8   \n",
       "11779  debt_consolidation         MA  27.75          3.0        56.3   \n",
       "\n",
       "       total_acc  bad_loan  longest_credit_length verification_status  \n",
       "0           24.0         0                   37.0            verified  \n",
       "1           18.0         0                   16.0        not verified  \n",
       "2           22.0         0                   31.0            verified  \n",
       "3           18.0         1                   30.0        not verified  \n",
       "4            7.0         0                   13.0        not verified  \n",
       "...          ...       ...                    ...                 ...  \n",
       "11774       27.0         0                   11.0        not verified  \n",
       "11775       25.0         0                   21.0        not verified  \n",
       "11777        7.0         0                   17.0            verified  \n",
       "11778        9.0         1                   15.0            verified  \n",
       "11779       53.0         0                   28.0            verified  \n",
       "\n",
       "[11225 rows x 15 columns]"
      ]
     },
     "execution_count": 832,
     "metadata": {},
     "output_type": "execute_result"
    }
   ],
   "source": [
    "#remove outliers\n",
    "Q1 = df['dti'].quantile(0.25)\n",
    "Q3 = df['dti'].quantile(0.75)\n",
    "IQR = Q3 - Q1\n",
    "print(Q1,Q3)\n",
    "print(IQR)\n",
    "filter = (df['dti'] >= Q1 - 1.5 * IQR) & (df['dti'] <= Q3 + 1.5 *IQR)\n",
    "df.loc[filter]"
   ]
  },
  {
   "cell_type": "code",
   "execution_count": 833,
   "metadata": {},
   "outputs": [],
   "source": [
    "# Outliers removed\n",
    "df = df.loc[filter]"
   ]
  },
  {
   "cell_type": "code",
   "execution_count": 834,
   "metadata": {},
   "outputs": [
    {
     "data": {
      "text/plain": [
       "{'whiskers': [<matplotlib.lines.Line2D at 0x12c84ce8>,\n",
       "  <matplotlib.lines.Line2D at 0x12c84e98>],\n",
       " 'caps': [<matplotlib.lines.Line2D at 0x22071070>,\n",
       "  <matplotlib.lines.Line2D at 0x22071220>],\n",
       " 'boxes': [<matplotlib.lines.Line2D at 0x12c84b38>],\n",
       " 'medians': [<matplotlib.lines.Line2D at 0x220713d0>],\n",
       " 'fliers': [<matplotlib.lines.Line2D at 0x22071580>],\n",
       " 'means': []}"
      ]
     },
     "execution_count": 834,
     "metadata": {},
     "output_type": "execute_result"
    },
    {
     "data": {
      "image/png": "[encoded data removed]",
      "text/plain": [
       "<Figure size 432x288 with 1 Axes>"
      ]
     },
     "metadata": {
      "needs_background": "light"
     },
     "output_type": "display_data"
    }
   ],
   "source": [
    "#Check for outliers in delinq_2yrs column\n",
    "plt.boxplot(df.delinq_2yrs)"
   ]
  },
  {
   "cell_type": "code",
   "execution_count": 835,
   "metadata": {},
   "outputs": [],
   "source": [
    "# No unwanted outliers"
   ]
  },
  {
   "cell_type": "code",
   "execution_count": 836,
   "metadata": {},
   "outputs": [
    {
     "data": {
      "text/plain": [
       "{'whiskers': [<matplotlib.lines.Line2D at 0x220ae7a8>,\n",
       "  <matplotlib.lines.Line2D at 0x220ae958>],\n",
       " 'caps': [<matplotlib.lines.Line2D at 0x220aeb08>,\n",
       "  <matplotlib.lines.Line2D at 0x220aecb8>],\n",
       " 'boxes': [<matplotlib.lines.Line2D at 0x220ae5f8>],\n",
       " 'medians': [<matplotlib.lines.Line2D at 0x220aee68>],\n",
       " 'fliers': [<matplotlib.lines.Line2D at 0x220a8040>],\n",
       " 'means': []}"
      ]
     },
     "execution_count": 836,
     "metadata": {},
     "output_type": "execute_result"
    },
    {
     "data": {
      "image/png": "[encoded data removed]",
      "text/plain": [
       "<Figure size 432x288 with 1 Axes>"
      ]
     },
     "metadata": {
      "needs_background": "light"
     },
     "output_type": "display_data"
    }
   ],
   "source": [
    "#Check for unwanted outliers in revol_util column\n",
    "plt.boxplot(df.revol_util)"
   ]
  },
  {
   "cell_type": "code",
   "execution_count": 837,
   "metadata": {},
   "outputs": [],
   "source": [
    "# No outliers"
   ]
  },
  {
   "cell_type": "code",
   "execution_count": 838,
   "metadata": {},
   "outputs": [
    {
     "data": {
      "text/plain": [
       "{'whiskers': [<matplotlib.lines.Line2D at 0x1f440f28>,\n",
       "  <matplotlib.lines.Line2D at 0x1f442100>],\n",
       " 'caps': [<matplotlib.lines.Line2D at 0x1f4422b0>,\n",
       "  <matplotlib.lines.Line2D at 0x1f442460>],\n",
       " 'boxes': [<matplotlib.lines.Line2D at 0x1f440d78>],\n",
       " 'medians': [<matplotlib.lines.Line2D at 0x1f442610>],\n",
       " 'fliers': [<matplotlib.lines.Line2D at 0x1f4427c0>],\n",
       " 'means': []}"
      ]
     },
     "execution_count": 838,
     "metadata": {},
     "output_type": "execute_result"
    },
    {
     "data": {
      "image/png": "[encoded data removed]",
      "text/plain": [
       "<Figure size 432x288 with 1 Axes>"
      ]
     },
     "metadata": {
      "needs_background": "light"
     },
     "output_type": "display_data"
    }
   ],
   "source": [
    "#Check for outliers in total_acc column\n",
    "plt.boxplot(df.total_acc)"
   ]
  },
  {
   "cell_type": "code",
   "execution_count": 839,
   "metadata": {},
   "outputs": [],
   "source": [
    "# Since there are quite a lot of outliers, removing them will majorly affect our sample dataset\n",
    "# They are not unwanted outliers"
   ]
  },
  {
   "cell_type": "code",
   "execution_count": 840,
   "metadata": {},
   "outputs": [],
   "source": [
    "#Check for unwanted outliers in bad_loan column"
   ]
  },
  {
   "cell_type": "code",
   "execution_count": 841,
   "metadata": {},
   "outputs": [
    {
     "data": {
      "text/plain": [
       "{'whiskers': [<matplotlib.lines.Line2D at 0x1f456988>,\n",
       "  <matplotlib.lines.Line2D at 0x1f4566b8>],\n",
       " 'caps': [<matplotlib.lines.Line2D at 0x1f457100>,\n",
       "  <matplotlib.lines.Line2D at 0x1f457580>],\n",
       " 'boxes': [<matplotlib.lines.Line2D at 0x21c912f8>],\n",
       " 'medians': [<matplotlib.lines.Line2D at 0x1f457730>],\n",
       " 'fliers': [<matplotlib.lines.Line2D at 0x1f4578e0>],\n",
       " 'means': []}"
      ]
     },
     "execution_count": 841,
     "metadata": {},
     "output_type": "execute_result"
    },
    {
     "data": {
      "image/png": "[encoded data removed]",
      "text/plain": [
       "<Figure size 432x288 with 1 Axes>"
      ]
     },
     "metadata": {
      "needs_background": "light"
     },
     "output_type": "display_data"
    }
   ],
   "source": [
    "plt.boxplot(df.bad_loan)"
   ]
  },
  {
   "cell_type": "code",
   "execution_count": 842,
   "metadata": {},
   "outputs": [],
   "source": [
    "#No unwanted outliers in this column"
   ]
  },
  {
   "cell_type": "code",
   "execution_count": 843,
   "metadata": {},
   "outputs": [
    {
     "data": {
      "text/plain": [
       "{'whiskers': [<matplotlib.lines.Line2D at 0x1f457f40>,\n",
       "  <matplotlib.lines.Line2D at 0x22089040>],\n",
       " 'caps': [<matplotlib.lines.Line2D at 0x204bad48>,\n",
       "  <matplotlib.lines.Line2D at 0x204babe0>],\n",
       " 'boxes': [<matplotlib.lines.Line2D at 0x1f457058>],\n",
       " 'medians': [<matplotlib.lines.Line2D at 0x21c38160>],\n",
       " 'fliers': [<matplotlib.lines.Line2D at 0x21c38310>],\n",
       " 'means': []}"
      ]
     },
     "execution_count": 843,
     "metadata": {},
     "output_type": "execute_result"
    },
    {
     "data": {
      "image/png": "[encoded data removed]",
      "text/plain": [
       "<Figure size 432x288 with 1 Axes>"
      ]
     },
     "metadata": {
      "needs_background": "light"
     },
     "output_type": "display_data"
    }
   ],
   "source": [
    "#Check for unwanted outliers in longest credit length column\n",
    "plt.boxplot(df.longest_credit_length)"
   ]
  },
  {
   "cell_type": "code",
   "execution_count": 844,
   "metadata": {},
   "outputs": [],
   "source": [
    "#There are many outliers,that are wanted\n",
    "#No removal of outliers here"
   ]
  },
  {
   "cell_type": "code",
   "execution_count": 845,
   "metadata": {},
   "outputs": [
    {
     "data": {
      "text/plain": [
       "<function matplotlib.pyplot.show(close=None, block=None)>"
      ]
     },
     "execution_count": 845,
     "metadata": {},
     "output_type": "execute_result"
    },
    {
     "data": {
      "image/png": "[encoded data removed]",
      "text/plain": [
       "<Figure size 432x288 with 1 Axes>"
      ]
     },
     "metadata": {
      "needs_background": "light"
     },
     "output_type": "display_data"
    }
   ],
   "source": [
    "#Check for outliers in verification_status column\n",
    "df.verification_status.value_counts().plot(kind = \"bar\")\n",
    "plt.xlabel('Status')\n",
    "plt.ylabel('Frequency')\n",
    "plt.show"
   ]
  },
  {
   "cell_type": "code",
   "execution_count": 846,
   "metadata": {},
   "outputs": [],
   "source": [
    "# All the unwanted outliers are removed here\n",
    "\n",
    "# Computing the mean and variance of every numerical column"
   ]
  },
  {
   "cell_type": "code",
   "execution_count": 847,
   "metadata": {},
   "outputs": [
    {
     "name": "stdout",
     "output_type": "stream",
     "text": [
      "10321.946547884187\n",
      "39568953.22237426\n"
     ]
    }
   ],
   "source": [
    "# Mean and variance of loan_amnt column\n",
    "print(df['loan_amnt'].mean())\n",
    "print(df['loan_amnt'].var())"
   ]
  },
  {
   "cell_type": "code",
   "execution_count": 848,
   "metadata": {},
   "outputs": [
    {
     "name": "stdout",
     "output_type": "stream",
     "text": [
      "12.83978619153675\n",
      "18.704904640668182\n"
     ]
    }
   ],
   "source": [
    "# Mean and variance of int_rate column\n",
    "print(df['int_rate'].mean())\n",
    "print(df['int_rate'].var())"
   ]
  },
  {
   "cell_type": "code",
   "execution_count": 849,
   "metadata": {},
   "outputs": [
    {
     "name": "stdout",
     "output_type": "stream",
     "text": [
      "5.111358574610245\n",
      "6.178439217902459\n"
     ]
    }
   ],
   "source": [
    "# Mean and variance of emp_length column\n",
    "print(df['emp_length'].mean())\n",
    "print(df['emp_length'].var())"
   ]
  },
  {
   "cell_type": "code",
   "execution_count": 850,
   "metadata": {},
   "outputs": [
    {
     "name": "stdout",
     "output_type": "stream",
     "text": [
      "55959.41720178173\n",
      "1293771231.3516634\n"
     ]
    }
   ],
   "source": [
    "# Mean and variance of annual income column\n",
    "print(df['annual_inc'].mean())\n",
    "print(df['annual_inc'].var())"
   ]
  },
  {
   "cell_type": "code",
   "execution_count": 851,
   "metadata": {},
   "outputs": [
    {
     "name": "stdout",
     "output_type": "stream",
     "text": [
      "15.330717149220492\n",
      "56.20330900988496\n"
     ]
    }
   ],
   "source": [
    "# Mean and variance of dti column\n",
    "print(df['dti'].mean())\n",
    "print(df['dti'].var())"
   ]
  },
  {
   "cell_type": "code",
   "execution_count": 852,
   "metadata": {},
   "outputs": [
    {
     "name": "stdout",
     "output_type": "stream",
     "text": [
      "0.16170076981554335\n",
      "0.3164796741475339\n"
     ]
    }
   ],
   "source": [
    "# Mean and variance of delinq_2yrs column\n",
    "print(df['delinq_2yrs'].mean())\n",
    "print(df['delinq_2yrs'].var())"
   ]
  },
  {
   "cell_type": "code",
   "execution_count": 853,
   "metadata": {},
   "outputs": [
    {
     "name": "stdout",
     "output_type": "stream",
     "text": [
      "52.72864153133754\n",
      "687.1660878821185\n"
     ]
    }
   ],
   "source": [
    "# Mean and variance of revol_util column\n",
    "print(df['revol_util'].mean())\n",
    "print(df['revol_util'].var())"
   ]
  },
  {
   "cell_type": "code",
   "execution_count": 854,
   "metadata": {},
   "outputs": [
    {
     "name": "stdout",
     "output_type": "stream",
     "text": [
      "22.482844365801974\n",
      "124.37825530620167\n"
     ]
    }
   ],
   "source": [
    "# Mean and variance of total_acc column\n",
    "print(df['total_acc'].mean())\n",
    "print(df['total_acc'].var())"
   ]
  },
  {
   "cell_type": "code",
   "execution_count": 855,
   "metadata": {},
   "outputs": [
    {
     "name": "stdout",
     "output_type": "stream",
     "text": [
      "0.213630289532294\n",
      "0.1680073561744083\n"
     ]
    }
   ],
   "source": [
    "# Mean and variance of bad_loan column\n",
    "print(df['bad_loan'].mean())\n",
    "print(df['bad_loan'].var())"
   ]
  },
  {
   "cell_type": "code",
   "execution_count": 856,
   "metadata": {},
   "outputs": [
    {
     "name": "stdout",
     "output_type": "stream",
     "text": [
      "16.480267260579065\n",
      "82.74535630775289\n"
     ]
    }
   ],
   "source": [
    "# Mean and variance of longest credit length column\n",
    "print(df['longest_credit_length'].mean())\n",
    "print(df['longest_credit_length'].var())"
   ]
  },
  {
   "cell_type": "code",
   "execution_count": 857,
   "metadata": {},
   "outputs": [],
   "source": [
    "# Standardization and Normalization of all numeric columns"
   ]
  },
  {
   "cell_type": "code",
   "execution_count": 858,
   "metadata": {},
   "outputs": [
    {
     "name": "stdout",
     "output_type": "stream",
     "text": [
      "0       -0.230035\n",
      "1       -0.877878\n",
      "2        0.266777\n",
      "3       -0.369143\n",
      "4        0.743716\n",
      "           ...   \n",
      "11774   -0.051183\n",
      "11775   -0.846082\n",
      "11777   -0.369143\n",
      "11778    0.123695\n",
      "11779    2.289795\n",
      "Name: loan_amnt, Length: 11225, dtype: float64\n"
     ]
    }
   ],
   "source": [
    "# Normalizing the loan_amont column\n",
    "from sklearn.preprocessing import StandardScaler\n",
    "scaler = StandardScaler()\n",
    "X = df.iloc[:,0:1].values\n",
    "df['loan_amnt'] = scaler.fit_transform(X)\n",
    "print(df['loan_amnt'])"
   ]
  },
  {
   "cell_type": "code",
   "execution_count": 859,
   "metadata": {},
   "outputs": [
    {
     "name": "stdout",
     "output_type": "stream",
     "text": [
      "7.216202394356474e-17\n",
      "1.0000890947968641\n"
     ]
    }
   ],
   "source": [
    "print(df['loan_amnt'].mean())\n",
    "print(df['loan_amnt'].var())\n",
    "# Mean is nearly zero and variance is almost 1"
   ]
  },
  {
   "cell_type": "code",
   "execution_count": 860,
   "metadata": {},
   "outputs": [
    {
     "name": "stdout",
     "output_type": "stream",
     "text": [
      "0        0.684486\n",
      "1       -0.034635\n",
      "2       -0.270488\n",
      "3        0.330706\n",
      "4       -0.427724\n",
      "           ...   \n",
      "11774    0.418573\n",
      "11775    0.561935\n",
      "11777    0.418573\n",
      "11778    0.561935\n",
      "11779    0.640553\n",
      "Name: int_rate, Length: 11225, dtype: float64\n"
     ]
    }
   ],
   "source": [
    "# Normalizing the interest rate column\n",
    "X = df.iloc[:,2:3].values\n",
    "df['int_rate'] = scaler.fit_transform(X)\n",
    "print(df['int_rate'])"
   ]
  },
  {
   "cell_type": "code",
   "execution_count": 861,
   "metadata": {},
   "outputs": [
    {
     "name": "stdout",
     "output_type": "stream",
     "text": [
      "-1.8863406258931836e-16\n",
      "1.0000890947968637\n"
     ]
    }
   ],
   "source": [
    "print(df['int_rate'].mean())\n",
    "print(df['int_rate'].var())\n",
    "# Mean is nearly zero and variance is almost 1"
   ]
  },
  {
   "cell_type": "code",
   "execution_count": 862,
   "metadata": {},
   "outputs": [
    {
     "name": "stdout",
     "output_type": "stream",
     "text": [
      "0       -0.044803\n",
      "1        0.357525\n",
      "2       -0.044803\n",
      "3       -0.044803\n",
      "4       -0.044803\n",
      "           ...   \n",
      "11774   -0.447130\n",
      "11775   -1.654114\n",
      "11777    1.966836\n",
      "11778    0.357525\n",
      "11779   -0.044803\n",
      "Name: emp_length, Length: 11225, dtype: float64\n"
     ]
    }
   ],
   "source": [
    "# Normalize the emp_length column\n",
    "X = df.iloc[:,3:4].values\n",
    "df['emp_length'] = scaler.fit_transform(X)\n",
    "print(df['emp_length'])"
   ]
  },
  {
   "cell_type": "code",
   "execution_count": 863,
   "metadata": {},
   "outputs": [
    {
     "name": "stdout",
     "output_type": "stream",
     "text": [
      "4.3044014282126337e-17\n",
      "1.000089094796864\n"
     ]
    }
   ],
   "source": [
    "print(df['emp_length'].mean())\n",
    "print(df['emp_length'].var())\n",
    "# Mean is nearly zero and variance is almost 1"
   ]
  },
  {
   "cell_type": "code",
   "execution_count": 864,
   "metadata": {},
   "outputs": [
    {
     "name": "stdout",
     "output_type": "stream",
     "text": [
      "0       -0.847725\n",
      "1       -0.638339\n",
      "2        0.234673\n",
      "3        0.279158\n",
      "4       -0.448501\n",
      "           ...   \n",
      "11774   -0.388113\n",
      "11775    0.112340\n",
      "11777   -0.165689\n",
      "11778   -0.304704\n",
      "11779   -0.061150\n",
      "Name: annual_inc, Length: 11225, dtype: float64\n"
     ]
    }
   ],
   "source": [
    "# Normalizing annual income\n",
    "X = df.iloc[:,5:6].values\n",
    "df['annual_inc'] = scaler.fit_transform(X)\n",
    "print(df['annual_inc'])"
   ]
  },
  {
   "cell_type": "code",
   "execution_count": 865,
   "metadata": {},
   "outputs": [
    {
     "name": "stdout",
     "output_type": "stream",
     "text": [
      "1.2470104137616013e-16\n",
      "1.000089094796864\n"
     ]
    }
   ],
   "source": [
    "print(df['annual_inc'].mean())\n",
    "print(df['annual_inc'].var())\n",
    "# Mean is nearly zero and variance is almost 1"
   ]
  },
  {
   "cell_type": "code",
   "execution_count": 866,
   "metadata": {},
   "outputs": [
    {
     "name": "stdout",
     "output_type": "stream",
     "text": [
      "0        1.758046\n",
      "1       -1.482110\n",
      "2       -0.378936\n",
      "3       -1.763573\n",
      "4        0.085277\n",
      "           ...   \n",
      "11774    0.828285\n",
      "11775   -0.481650\n",
      "11777   -1.942322\n",
      "11778   -1.426084\n",
      "11779    1.656666\n",
      "Name: dti, Length: 11225, dtype: float64\n"
     ]
    }
   ],
   "source": [
    "# Normalize dti column\n",
    "X = df.iloc[:,8:9].values\n",
    "df['dti'] = scaler.fit_transform(X)\n",
    "print(df['dti'])"
   ]
  },
  {
   "cell_type": "code",
   "execution_count": 867,
   "metadata": {},
   "outputs": [
    {
     "name": "stdout",
     "output_type": "stream",
     "text": [
      "-2.329440772915072e-16\n",
      "1.000089094796864\n"
     ]
    }
   ],
   "source": [
    "print(df['dti'].mean())\n",
    "print(df['dti'].var())\n",
    "# Mean is nearly zero and variance is almost 1"
   ]
  },
  {
   "cell_type": "code",
   "execution_count": 868,
   "metadata": {},
   "outputs": [
    {
     "name": "stdout",
     "output_type": "stream",
     "text": [
      "0       -0.287447\n",
      "1       -0.287447\n",
      "2       -0.287447\n",
      "3       -0.287447\n",
      "4       -0.287447\n",
      "           ...   \n",
      "11774    5.045505\n",
      "11775    1.490203\n",
      "11777   -0.287447\n",
      "11778   -0.287447\n",
      "11779    5.045505\n",
      "Name: delinq_2yrs, Length: 11225, dtype: float64\n"
     ]
    }
   ],
   "source": [
    "# Normalize delinq_2yrs column\n",
    "X = df.iloc[:,9:10].values\n",
    "df['delinq_2yrs'] = scaler.fit_transform(X)\n",
    "print(df['delinq_2yrs'])"
   ]
  },
  {
   "cell_type": "code",
   "execution_count": 869,
   "metadata": {},
   "outputs": [
    {
     "name": "stdout",
     "output_type": "stream",
     "text": [
      "8.862002940437775e-18\n",
      "1.000089094796864\n"
     ]
    }
   ],
   "source": [
    "print(df['delinq_2yrs'].mean())\n",
    "print(df['delinq_2yrs'].var())\n",
    "# Mean is nearly zero and variance is almost 1"
   ]
  },
  {
   "cell_type": "code",
   "execution_count": 870,
   "metadata": {},
   "outputs": [
    {
     "name": "stdout",
     "output_type": "stream",
     "text": [
      "0       -0.500851\n",
      "1        1.681299\n",
      "2        0.498665\n",
      "3       -2.011570\n",
      "4        0.376587\n",
      "           ...   \n",
      "11774   -0.886160\n",
      "11775    1.147206\n",
      "11777   -0.985349\n",
      "11778    1.643149\n",
      "11779    0.136245\n",
      "Name: revol_util, Length: 11225, dtype: float64\n"
     ]
    }
   ],
   "source": [
    "# Normalize revol_util column\n",
    "X = df.iloc[:,10:11].values\n",
    "df['revol_util'] = scaler.fit_transform(X)\n",
    "print(df['revol_util'])"
   ]
  },
  {
   "cell_type": "code",
   "execution_count": 871,
   "metadata": {},
   "outputs": [
    {
     "name": "stdout",
     "output_type": "stream",
     "text": [
      "5.1906017222564113e-17\n",
      "1.0000890947968637\n"
     ]
    }
   ],
   "source": [
    "print(df['revol_util'].mean())\n",
    "print(df['revol_util'].var())\n",
    "# Mean is nearly zero and variance is almost 1"
   ]
  },
  {
   "cell_type": "code",
   "execution_count": 872,
   "metadata": {},
   "outputs": [
    {
     "name": "stdout",
     "output_type": "stream",
     "text": [
      "0        0.136043\n",
      "1       -0.401977\n",
      "2       -0.043297\n",
      "3       -0.401977\n",
      "4       -1.388346\n",
      "           ...   \n",
      "11774    0.405053\n",
      "11775    0.225713\n",
      "11777   -1.388346\n",
      "11778   -1.209007\n",
      "11779    2.736473\n",
      "Name: total_acc, Length: 11225, dtype: float64\n"
     ]
    }
   ],
   "source": [
    "# Normalize total account column\n",
    "X = df.iloc[:,11:12].values\n",
    "df['total_acc'] = scaler.fit_transform(X)\n",
    "print(df['total_acc'])"
   ]
  },
  {
   "cell_type": "code",
   "execution_count": 873,
   "metadata": {},
   "outputs": [
    {
     "name": "stdout",
     "output_type": "stream",
     "text": [
      "-1.2849904263634775e-16\n",
      "1.0000890947968637\n"
     ]
    }
   ],
   "source": [
    "print(df['total_acc'].mean())\n",
    "print(df['total_acc'].var())\n",
    "# Mean is nearly zero and variance is almost 1"
   ]
  },
  {
   "cell_type": "code",
   "execution_count": 874,
   "metadata": {},
   "outputs": [
    {
     "name": "stdout",
     "output_type": "stream",
     "text": [
      "0       -0.521216\n",
      "1       -0.521216\n",
      "2       -0.521216\n",
      "3        1.918589\n",
      "4       -0.521216\n",
      "           ...   \n",
      "11774   -0.521216\n",
      "11775   -0.521216\n",
      "11777   -0.521216\n",
      "11778    1.918589\n",
      "11779   -0.521216\n",
      "Name: bad_loan, Length: 11225, dtype: float64\n"
     ]
    }
   ],
   "source": [
    "# Normalize bad loan column\n",
    "X = df.iloc[:,12:13].values\n",
    "df['bad_loan'] = scaler.fit_transform(X)\n",
    "print(df['bad_loan'])"
   ]
  },
  {
   "cell_type": "code",
   "execution_count": 875,
   "metadata": {},
   "outputs": [
    {
     "name": "stdout",
     "output_type": "stream",
     "text": [
      "-1.772400588087555e-17\n",
      "1.0000890947968641\n"
     ]
    }
   ],
   "source": [
    "print(df['bad_loan'].mean())\n",
    "print(df['bad_loan'].var())\n",
    "# Mean is nearly zero and variance is almost 1"
   ]
  },
  {
   "cell_type": "code",
   "execution_count": 876,
   "metadata": {},
   "outputs": [
    {
     "name": "stdout",
     "output_type": "stream",
     "text": [
      "0        2.255897\n",
      "1       -0.052800\n",
      "2        1.596269\n",
      "3        1.486331\n",
      "4       -0.382613\n",
      "           ...   \n",
      "11774   -0.602489\n",
      "11775    0.496890\n",
      "11777    0.057138\n",
      "11778   -0.162738\n",
      "11779    1.266455\n",
      "Name: longest_credit_length, Length: 11225, dtype: float64\n"
     ]
    }
   ],
   "source": [
    "# Normalize longest credit length column\n",
    "X = df.iloc[:,13:14].values\n",
    "df['longest_credit_length'] = scaler.fit_transform(X)\n",
    "print(df['longest_credit_length'])"
   ]
  },
  {
   "cell_type": "code",
   "execution_count": 877,
   "metadata": {},
   "outputs": [
    {
     "name": "stdout",
     "output_type": "stream",
     "text": [
      "-9.368403108462791e-17\n",
      "1.0000890947968635\n"
     ]
    }
   ],
   "source": [
    "print(df['longest_credit_length'].mean())\n",
    "print(df['longest_credit_length'].var())\n",
    "# Mean is nearly zero and variance is almost 1"
   ]
  },
  {
   "cell_type": "code",
   "execution_count": 878,
   "metadata": {},
   "outputs": [
    {
     "data": {
      "text/html": [
       "<div>\n",
       "<style scoped>\n",
       "    .dataframe tbody tr th:only-of-type {\n",
       "        vertical-align: middle;\n",
       "    }\n",
       "\n",
       "    .dataframe tbody tr th {\n",
       "        vertical-align: top;\n",
       "    }\n",
       "\n",
       "    .dataframe thead th {\n",
       "        text-align: right;\n",
       "    }\n",
       "</style>\n",
       "<table border=\"1\" class=\"dataframe\">\n",
       "  <thead>\n",
       "    <tr style=\"text-align: right;\">\n",
       "      <th></th>\n",
       "      <th>loan_amnt</th>\n",
       "      <th>term</th>\n",
       "      <th>int_rate</th>\n",
       "      <th>emp_length</th>\n",
       "      <th>home_ownership</th>\n",
       "      <th>annual_inc</th>\n",
       "      <th>purpose</th>\n",
       "      <th>addr_state</th>\n",
       "      <th>dti</th>\n",
       "      <th>delinq_2yrs</th>\n",
       "      <th>revol_util</th>\n",
       "      <th>total_acc</th>\n",
       "      <th>bad_loan</th>\n",
       "      <th>longest_credit_length</th>\n",
       "      <th>verification_status</th>\n",
       "    </tr>\n",
       "  </thead>\n",
       "  <tbody>\n",
       "    <tr>\n",
       "      <th>0</th>\n",
       "      <td>-0.230035</td>\n",
       "      <td>36 months</td>\n",
       "      <td>0.684486</td>\n",
       "      <td>-0.044803</td>\n",
       "      <td>RENT</td>\n",
       "      <td>-0.847725</td>\n",
       "      <td>debt_consolidation</td>\n",
       "      <td>CT</td>\n",
       "      <td>1.758046</td>\n",
       "      <td>-0.287447</td>\n",
       "      <td>-0.500851</td>\n",
       "      <td>0.136043</td>\n",
       "      <td>-0.521216</td>\n",
       "      <td>2.255897</td>\n",
       "      <td>verified</td>\n",
       "    </tr>\n",
       "    <tr>\n",
       "      <th>1</th>\n",
       "      <td>-0.877878</td>\n",
       "      <td>36 months</td>\n",
       "      <td>-0.034635</td>\n",
       "      <td>0.357525</td>\n",
       "      <td>RENT</td>\n",
       "      <td>-0.638339</td>\n",
       "      <td>other</td>\n",
       "      <td>IL</td>\n",
       "      <td>-1.482110</td>\n",
       "      <td>-0.287447</td>\n",
       "      <td>1.681299</td>\n",
       "      <td>-0.401977</td>\n",
       "      <td>-0.521216</td>\n",
       "      <td>-0.052800</td>\n",
       "      <td>not verified</td>\n",
       "    </tr>\n",
       "    <tr>\n",
       "      <th>2</th>\n",
       "      <td>0.266777</td>\n",
       "      <td>60 months</td>\n",
       "      <td>-0.270488</td>\n",
       "      <td>-0.044803</td>\n",
       "      <td>MORTGAGE</td>\n",
       "      <td>0.234673</td>\n",
       "      <td>credit_card</td>\n",
       "      <td>MA</td>\n",
       "      <td>-0.378936</td>\n",
       "      <td>-0.287447</td>\n",
       "      <td>0.498665</td>\n",
       "      <td>-0.043297</td>\n",
       "      <td>-0.521216</td>\n",
       "      <td>1.596269</td>\n",
       "      <td>verified</td>\n",
       "    </tr>\n",
       "    <tr>\n",
       "      <th>3</th>\n",
       "      <td>-0.369143</td>\n",
       "      <td>36 months</td>\n",
       "      <td>0.330706</td>\n",
       "      <td>-0.044803</td>\n",
       "      <td>MORTGAGE</td>\n",
       "      <td>0.279158</td>\n",
       "      <td>home_improvement</td>\n",
       "      <td>CA</td>\n",
       "      <td>-1.763573</td>\n",
       "      <td>-0.287447</td>\n",
       "      <td>-2.011570</td>\n",
       "      <td>-0.401977</td>\n",
       "      <td>1.918589</td>\n",
       "      <td>1.486331</td>\n",
       "      <td>not verified</td>\n",
       "    </tr>\n",
       "    <tr>\n",
       "      <th>4</th>\n",
       "      <td>0.743716</td>\n",
       "      <td>36 months</td>\n",
       "      <td>-0.427724</td>\n",
       "      <td>-0.044803</td>\n",
       "      <td>OWN</td>\n",
       "      <td>-0.448501</td>\n",
       "      <td>debt_consolidation</td>\n",
       "      <td>MT</td>\n",
       "      <td>0.085277</td>\n",
       "      <td>-0.287447</td>\n",
       "      <td>0.376587</td>\n",
       "      <td>-1.388346</td>\n",
       "      <td>-0.521216</td>\n",
       "      <td>-0.382613</td>\n",
       "      <td>not verified</td>\n",
       "    </tr>\n",
       "    <tr>\n",
       "      <th>...</th>\n",
       "      <td>...</td>\n",
       "      <td>...</td>\n",
       "      <td>...</td>\n",
       "      <td>...</td>\n",
       "      <td>...</td>\n",
       "      <td>...</td>\n",
       "      <td>...</td>\n",
       "      <td>...</td>\n",
       "      <td>...</td>\n",
       "      <td>...</td>\n",
       "      <td>...</td>\n",
       "      <td>...</td>\n",
       "      <td>...</td>\n",
       "      <td>...</td>\n",
       "      <td>...</td>\n",
       "    </tr>\n",
       "    <tr>\n",
       "      <th>11774</th>\n",
       "      <td>-0.051183</td>\n",
       "      <td>36 months</td>\n",
       "      <td>0.418573</td>\n",
       "      <td>-0.447130</td>\n",
       "      <td>OWN</td>\n",
       "      <td>-0.388113</td>\n",
       "      <td>house</td>\n",
       "      <td>FL</td>\n",
       "      <td>0.828285</td>\n",
       "      <td>5.045505</td>\n",
       "      <td>-0.886160</td>\n",
       "      <td>0.405053</td>\n",
       "      <td>-0.521216</td>\n",
       "      <td>-0.602489</td>\n",
       "      <td>not verified</td>\n",
       "    </tr>\n",
       "    <tr>\n",
       "      <th>11775</th>\n",
       "      <td>-0.846082</td>\n",
       "      <td>36 months</td>\n",
       "      <td>0.561935</td>\n",
       "      <td>-1.654114</td>\n",
       "      <td>MORTGAGE</td>\n",
       "      <td>0.112340</td>\n",
       "      <td>home_improvement</td>\n",
       "      <td>PA</td>\n",
       "      <td>-0.481650</td>\n",
       "      <td>1.490203</td>\n",
       "      <td>1.147206</td>\n",
       "      <td>0.225713</td>\n",
       "      <td>-0.521216</td>\n",
       "      <td>0.496890</td>\n",
       "      <td>not verified</td>\n",
       "    </tr>\n",
       "    <tr>\n",
       "      <th>11777</th>\n",
       "      <td>-0.369143</td>\n",
       "      <td>36 months</td>\n",
       "      <td>0.418573</td>\n",
       "      <td>1.966836</td>\n",
       "      <td>RENT</td>\n",
       "      <td>-0.165689</td>\n",
       "      <td>debt_consolidation</td>\n",
       "      <td>VA</td>\n",
       "      <td>-1.942322</td>\n",
       "      <td>-0.287447</td>\n",
       "      <td>-0.985349</td>\n",
       "      <td>-1.388346</td>\n",
       "      <td>-0.521216</td>\n",
       "      <td>0.057138</td>\n",
       "      <td>verified</td>\n",
       "    </tr>\n",
       "    <tr>\n",
       "      <th>11778</th>\n",
       "      <td>0.123695</td>\n",
       "      <td>36 months</td>\n",
       "      <td>0.561935</td>\n",
       "      <td>0.357525</td>\n",
       "      <td>RENT</td>\n",
       "      <td>-0.304704</td>\n",
       "      <td>debt_consolidation</td>\n",
       "      <td>NY</td>\n",
       "      <td>-1.426084</td>\n",
       "      <td>-0.287447</td>\n",
       "      <td>1.643149</td>\n",
       "      <td>-1.209007</td>\n",
       "      <td>1.918589</td>\n",
       "      <td>-0.162738</td>\n",
       "      <td>verified</td>\n",
       "    </tr>\n",
       "    <tr>\n",
       "      <th>11779</th>\n",
       "      <td>2.289795</td>\n",
       "      <td>60 months</td>\n",
       "      <td>0.640553</td>\n",
       "      <td>-0.044803</td>\n",
       "      <td>RENT</td>\n",
       "      <td>-0.061150</td>\n",
       "      <td>debt_consolidation</td>\n",
       "      <td>MA</td>\n",
       "      <td>1.656666</td>\n",
       "      <td>5.045505</td>\n",
       "      <td>0.136245</td>\n",
       "      <td>2.736473</td>\n",
       "      <td>-0.521216</td>\n",
       "      <td>1.266455</td>\n",
       "      <td>verified</td>\n",
       "    </tr>\n",
       "  </tbody>\n",
       "</table>\n",
       "<p>11225 rows × 15 columns</p>\n",
       "</div>"
      ],
      "text/plain": [
       "       loan_amnt       term  int_rate  emp_length home_ownership  annual_inc  \\\n",
       "0      -0.230035  36 months  0.684486   -0.044803           RENT   -0.847725   \n",
       "1      -0.877878  36 months -0.034635    0.357525           RENT   -0.638339   \n",
       "2       0.266777  60 months -0.270488   -0.044803       MORTGAGE    0.234673   \n",
       "3      -0.369143  36 months  0.330706   -0.044803       MORTGAGE    0.279158   \n",
       "4       0.743716  36 months -0.427724   -0.044803            OWN   -0.448501   \n",
       "...          ...        ...       ...         ...            ...         ...   \n",
       "11774  -0.051183  36 months  0.418573   -0.447130            OWN   -0.388113   \n",
       "11775  -0.846082  36 months  0.561935   -1.654114       MORTGAGE    0.112340   \n",
       "11777  -0.369143  36 months  0.418573    1.966836           RENT   -0.165689   \n",
       "11778   0.123695  36 months  0.561935    0.357525           RENT   -0.304704   \n",
       "11779   2.289795  60 months  0.640553   -0.044803           RENT   -0.061150   \n",
       "\n",
       "                  purpose addr_state       dti  delinq_2yrs  revol_util  \\\n",
       "0      debt_consolidation         CT  1.758046    -0.287447   -0.500851   \n",
       "1                   other         IL -1.482110    -0.287447    1.681299   \n",
       "2             credit_card         MA -0.378936    -0.287447    0.498665   \n",
       "3        home_improvement         CA -1.763573    -0.287447   -2.011570   \n",
       "4      debt_consolidation         MT  0.085277    -0.287447    0.376587   \n",
       "...                   ...        ...       ...          ...         ...   \n",
       "11774               house         FL  0.828285     5.045505   -0.886160   \n",
       "11775    home_improvement         PA -0.481650     1.490203    1.147206   \n",
       "11777  debt_consolidation         VA -1.942322    -0.287447   -0.985349   \n",
       "11778  debt_consolidation         NY -1.426084    -0.287447    1.643149   \n",
       "11779  debt_consolidation         MA  1.656666     5.045505    0.136245   \n",
       "\n",
       "       total_acc  bad_loan  longest_credit_length verification_status  \n",
       "0       0.136043 -0.521216               2.255897            verified  \n",
       "1      -0.401977 -0.521216              -0.052800        not verified  \n",
       "2      -0.043297 -0.521216               1.596269            verified  \n",
       "3      -0.401977  1.918589               1.486331        not verified  \n",
       "4      -1.388346 -0.521216              -0.382613        not verified  \n",
       "...          ...       ...                    ...                 ...  \n",
       "11774   0.405053 -0.521216              -0.602489        not verified  \n",
       "11775   0.225713 -0.521216               0.496890        not verified  \n",
       "11777  -1.388346 -0.521216               0.057138            verified  \n",
       "11778  -1.209007  1.918589              -0.162738            verified  \n",
       "11779   2.736473 -0.521216               1.266455            verified  \n",
       "\n",
       "[11225 rows x 15 columns]"
      ]
     },
     "execution_count": 878,
     "metadata": {},
     "output_type": "execute_result"
    }
   ],
   "source": [
    "# Check the data frame \n",
    "\n",
    "df"
   ]
  },
  {
   "cell_type": "code",
   "execution_count": 879,
   "metadata": {},
   "outputs": [],
   "source": [
    "# Unwanted outliers are removed \n",
    "# Numeric columns are normalized to make mean 0 and variance 1"
   ]
  },
  {
   "cell_type": "code",
   "execution_count": 880,
   "metadata": {},
   "outputs": [],
   "source": [
    "#Discussion of the importance and effect of normalization\n",
    "\n",
    "#->Normalization is removing unwanted or redundant data from the table in order to improve storage efficiency ,scalability and data integrity.\n",
    "#->It is used in order to eliminate anomalies like insertion, deletion and update in the tables. \n",
    "#->It helps in dividing a large table into multiple small normalized tables that are connected and linked using a relationship to reduce redundancy\n",
    "\n",
    "# Effect of normalization on dataset:\n",
    "#->In normalization mean is set to 0 and variance is made 1. \n",
    "#->Elements can take negative values while originally they may not be negative\n",
    "#->This is to make the mean zero and variance 1, so that the relation between values is also sustained\n"
   ]
  },
  {
   "cell_type": "code",
   "execution_count": 881,
   "metadata": {},
   "outputs": [
    {
     "name": "stdout",
     "output_type": "stream",
     "text": [
      "7.216202394356474e-17\n",
      "1.0000890947968641\n"
     ]
    },
    {
     "data": {
      "image/png": "[encoded data removed]",
      "text/plain": [
       "<Figure size 432x288 with 1 Axes>"
      ]
     },
     "metadata": {
      "needs_background": "light"
     },
     "output_type": "display_data"
    }
   ],
   "source": [
    "# Plot graph for any numeric column to check if the data is normal\n",
    "plt.hist(df['loan_amnt'])\n",
    "print(df['loan_amnt'].mean())\n",
    "print(df['loan_amnt'].var())"
   ]
  },
  {
   "cell_type": "code",
   "execution_count": 882,
   "metadata": {},
   "outputs": [],
   "source": [
    "# It can be seen that mean is 0 and variance is 1\n",
    "# Graph shows that most of the values lie between -1.5 and 1, while only few values are more than 1.\n",
    "# This is to maintain the mean 0 and variance 1, while the relation between values is also maintained\n",
    "# Therefore the data is normalized"
   ]
  },
  {
   "cell_type": "code",
   "execution_count": 883,
   "metadata": {},
   "outputs": [
    {
     "name": "stdout",
     "output_type": "stream",
     "text": [
      "-1.8863406258931836e-16\n",
      "1.0000890947968637\n"
     ]
    },
    {
     "data": {
      "image/png": "[encoded data removed]",
      "text/plain": [
       "<Figure size 432x288 with 1 Axes>"
      ]
     },
     "metadata": {
      "needs_background": "light"
     },
     "output_type": "display_data"
    }
   ],
   "source": [
    "plt.hist(df['int_rate'])\n",
    "print(df['int_rate'].mean())\n",
    "print(df['int_rate'].var())"
   ]
  },
  {
   "cell_type": "code",
   "execution_count": 884,
   "metadata": {},
   "outputs": [],
   "source": [
    "# The conclusion here is the same. Mean is nearly 0 and variance is nearly 1\n",
    "# Most of the values lie closer and around 0 on either sides.Some values are more than 1\n",
    "# Therefore the data is normalized"
   ]
  },
  {
   "cell_type": "code",
   "execution_count": 885,
   "metadata": {},
   "outputs": [],
   "source": [
    "#Hypothesis testing\n",
    "#Hypothesis testing is a formal procedure for investigating our ideas about the world using statistics. \n",
    "#It is most often used by scientists to test specific predictions,called hypotheses,that arise from theories.\n",
    "#There are 5 main steps in hypothesis testing:\n",
    "#->State your research hypothesis as a null (Ho) and alternate (Ha) hypothesis.\n",
    "#->Collect data in a way designed to test the hypothesis.\n",
    "#->Perform an appropriate statistical test.\n",
    "#->Decide whether the null hypothesis is supported or refuted.\n",
    "#->Present the findings in your results and discussion section."
   ]
  },
  {
   "cell_type": "code",
   "execution_count": null,
   "metadata": {},
   "outputs": [],
   "source": [
    "#Code to stop execution if conditions given aren't satisfied\n",
    "class StopExecution(Exception):\n",
    "    def _render_traceback_(self):\n",
    "        pass"
   ]
  },
  {
   "cell_type": "code",
   "execution_count": 886,
   "metadata": {},
   "outputs": [],
   "source": [
    "import scipy\n",
    "loan1 = pd.read_excel(\"loan.xlsx\")\n",
    "Sample_Data=loan1['loan_amnt']"
   ]
  },
  {
   "cell_type": "code",
   "execution_count": 887,
   "metadata": {},
   "outputs": [
    {
     "name": "stdout",
     "output_type": "stream",
     "text": [
      "Using p-value approach for Hypothesis Testing.\n",
      "This is a large data sample, hence we use z test.\n",
      "We use population proportion for this test.\n"
     ]
    }
   ],
   "source": [
    "print(\"Using p-value approach for Hypothesis Testing.\")\n",
    "print(\"This is a large data sample, hence we use z test.\")\n",
    "print(\"We use population proportion for this test.\")"
   ]
  },
  {
   "cell_type": "code",
   "execution_count": 888,
   "metadata": {},
   "outputs": [
    {
     "name": "stdout",
     "output_type": "stream",
     "text": [
      "\n",
      "Total number of values in the column, n = 11780\n"
     ]
    }
   ],
   "source": [
    "no_of_values=len(loan1)\n",
    "print(\"\\nTotal number of values in the column, n = \" + str(no_of_values))"
   ]
  },
  {
   "cell_type": "code",
   "execution_count": 889,
   "metadata": {},
   "outputs": [
    {
     "name": "stdout",
     "output_type": "stream",
     "text": [
      "p0 = 0.5\n"
     ]
    }
   ],
   "source": [
    "p0 = 0.50\n",
    "print(\"p0 = \" + str(p0))"
   ]
  },
  {
   "cell_type": "code",
   "execution_count": 890,
   "metadata": {},
   "outputs": [],
   "source": [
    "# Hypothesis\n",
    "# Null Hypothesis, H0: Less than or equal to 50% of the loan amount is greater than 10,000. (p <= 0.50)"
   ]
  },
  {
   "cell_type": "code",
   "execution_count": 891,
   "metadata": {},
   "outputs": [
    {
     "name": "stdout",
     "output_type": "stream",
     "text": [
      "\n",
      "Null Hypothesis, H0:  Less than or equal to 50% of the loan amount is greater than 10,000. (p <= 0.50)\n"
     ]
    }
   ],
   "source": [
    "H0 = \" Less than or equal to 50% of the loan amount is greater than 10,000.\"\n",
    "print(\"\\nNull Hypothesis, H0: \" + H0 + \" (p <= 0.50)\")"
   ]
  },
  {
   "cell_type": "code",
   "execution_count": 892,
   "metadata": {},
   "outputs": [],
   "source": [
    "# Alternate Hypothesis, H1: More than 50% of the loan amount is greater than 10,000. (p > 0.50)"
   ]
  },
  {
   "cell_type": "code",
   "execution_count": 893,
   "metadata": {},
   "outputs": [
    {
     "name": "stdout",
     "output_type": "stream",
     "text": [
      "Alternate Hypothesis, H1: More than 50% of the loan amount is greater than 10,000. (p > 0.50)\n"
     ]
    }
   ],
   "source": [
    "H1=\"More than 50% of the loan amount is greater than 10,000.\"\n",
    "print(\"Alternate Hypothesis, H1: \" + H1 + \" (p > 0.50)\")"
   ]
  },
  {
   "cell_type": "code",
   "execution_count": 894,
   "metadata": {},
   "outputs": [
    {
     "name": "stdout",
     "output_type": "stream",
     "text": [
      "Conditions n*p0 > 10 and n*(1-p0)>10 are satisfied.\n"
     ]
    }
   ],
   "source": [
    "#Checking the condition of  n*p0 > 10 and n*(1-p0)>10\n",
    "if (no_of_values*p0 > 10 and no_of_values*(1-p0)>10 ):\n",
    "  print(\"Conditions n*p0 > 10 and n*(1-p0)>10 are satisfied.\")\n",
    "else:\n",
    "  print(\"Conditions n*p0 > 10 and n*(1-p0)>10 are not satisfied.\")\n",
    "  raise StopExecution"
   ]
  },
  {
   "cell_type": "code",
   "execution_count": 895,
   "metadata": {},
   "outputs": [
    {
     "name": "stdout",
     "output_type": "stream",
     "text": [
      "Number of successes, X = 5173\n"
     ]
    }
   ],
   "source": [
    "## Code for number of successes in number_of_values independent Bernoulli trials, each with success probability p0\n",
    "no_of_success=0\n",
    "for i in Sample_Data:\n",
    "    if(i>10000):\n",
    "       no_of_success+=1 \n",
    "X=no_of_success\n",
    "print(\"Number of successes, X = \" + str(X))"
   ]
  },
  {
   "cell_type": "code",
   "execution_count": 896,
   "metadata": {},
   "outputs": [],
   "source": [
    "# Determining if the test is one tailed or two tailed and alloting alpha value\n",
    "test=\"one_tailed_test\"\n",
    "if (test==\"two_tailed_test\"):\n",
    "    number_of_tails=2\n",
    "    alpha = 0.025\n",
    "elif (test==\"one_tailed_test\"):\n",
    "    number_of_tails=1\n",
    "    alpha =0.05"
   ]
  },
  {
   "cell_type": "code",
   "execution_count": 897,
   "metadata": {},
   "outputs": [],
   "source": [
    "p_hat = X/no_of_values\n",
    "# Z score\n",
    "z_score=(p_hat-p0)/(np.sqrt((p0 * (1-p0))/(no_of_values)))\n",
    "# p Value\n",
    "p_value = scipy.stats.norm.sf(z_score)"
   ]
  },
  {
   "cell_type": "code",
   "execution_count": 898,
   "metadata": {},
   "outputs": [
    {
     "name": "stdout",
     "output_type": "stream",
     "text": [
      "\n",
      "Failed to reject the null hypothesis. Null hypothesis is plausible and hence alternate hypothesis is also plausible.\n"
     ]
    }
   ],
   "source": [
    "if p_value > alpha:\n",
    "    print('\\nFailed to reject the null hypothesis. Null hypothesis is plausible and hence alternate hypothesis is also plausible.')\n",
    " \n",
    "else:\n",
    "    print('\\nNull hypothesis is rejected and alternate hypothesis is accepted.')\n",
    "    print('Accepted hypothesis is H1:',H1)"
   ]
  },
  {
   "cell_type": "code",
   "execution_count": 899,
   "metadata": {},
   "outputs": [
    {
     "name": "stdout",
     "output_type": "stream",
     "text": [
      "\n",
      "z_score = -13.2122415840\n",
      "p_value = 1.0000000000\n",
      "The test is 1 tailed test and is a right tailed test.\n"
     ]
    }
   ],
   "source": [
    "print('\\nz_score = %.10f' % (z_score))\n",
    "print('p_value = %.10f' % (p_value))\n",
    "print('The test is '+str(number_of_tails)+' tailed test and is a right tailed test.')"
   ]
  },
  {
   "cell_type": "code",
   "execution_count": 900,
   "metadata": {},
   "outputs": [],
   "source": [
    "Sample_Data=loan1['annual_inc']"
   ]
  },
  {
   "cell_type": "code",
   "execution_count": 901,
   "metadata": {},
   "outputs": [
    {
     "name": "stdout",
     "output_type": "stream",
     "text": [
      "\n",
      "Total number of values in the column, n = 11780\n"
     ]
    }
   ],
   "source": [
    "no_of_values=len(loan1)\n",
    "print(\"\\nTotal number of values in the column, n = \" + str(no_of_values))"
   ]
  },
  {
   "cell_type": "code",
   "execution_count": 902,
   "metadata": {},
   "outputs": [
    {
     "name": "stdout",
     "output_type": "stream",
     "text": [
      "p0 = 0.35\n"
     ]
    }
   ],
   "source": [
    "p0 = 0.35\n",
    "print(\"p0 = \" + str(p0))"
   ]
  },
  {
   "cell_type": "code",
   "execution_count": 903,
   "metadata": {},
   "outputs": [],
   "source": [
    "# Hypothesis\n",
    "# Null Hypothesis, H0: Less than or equal to 35% of the annual income is greater than 50,000. (p <= 0.35)"
   ]
  },
  {
   "cell_type": "code",
   "execution_count": 904,
   "metadata": {},
   "outputs": [
    {
     "name": "stdout",
     "output_type": "stream",
     "text": [
      "\n",
      "Null Hypothesis, H0:  Less than or equal to 35% of the loan amount is greater than 50,000. (p <= 0.35)\n"
     ]
    }
   ],
   "source": [
    "H0 = \" Less than or equal to 35% of the loan amount is greater than 50,000.\"\n",
    "print(\"\\nNull Hypothesis, H0: \" + H0 + \" (p <= 0.35)\")"
   ]
  },
  {
   "cell_type": "code",
   "execution_count": 905,
   "metadata": {},
   "outputs": [],
   "source": [
    "# Alternate Hypothesis, H1: More than 35% of the annual income is greater than 50,000. (p > 0.35)"
   ]
  },
  {
   "cell_type": "code",
   "execution_count": 906,
   "metadata": {},
   "outputs": [
    {
     "name": "stdout",
     "output_type": "stream",
     "text": [
      "Alternate Hypothesis, H1: More than 35% of the loan amount is greater than 50,000. (p > 0.35)\n"
     ]
    }
   ],
   "source": [
    "H1=\"More than 35% of the loan amount is greater than 50,000.\"\n",
    "print(\"Alternate Hypothesis, H1: \" + H1 + \" (p > 0.35)\")"
   ]
  },
  {
   "cell_type": "code",
   "execution_count": 907,
   "metadata": {},
   "outputs": [
    {
     "name": "stdout",
     "output_type": "stream",
     "text": [
      "Conditions n*p0 > 10 and n*(1-p0)>10 are satisfied.\n"
     ]
    }
   ],
   "source": [
    "#Checking the condition of  n*p0 > 10 and n*(1-p0)>10\n",
    "if (no_of_values*p0 > 10 and no_of_values*(1-p0)>10 ):\n",
    "  print(\"Conditions n*p0 > 10 and n*(1-p0)>10 are satisfied.\")\n",
    "else:\n",
    "  print(\"Conditions n*p0 > 10 and n*(1-p0)>10 are not satisfied.\")\n",
    "  raise StopExecution"
   ]
  },
  {
   "cell_type": "code",
   "execution_count": 908,
   "metadata": {},
   "outputs": [
    {
     "name": "stdout",
     "output_type": "stream",
     "text": [
      "Number of successes, X = 10939\n"
     ]
    }
   ],
   "source": [
    "# Code for number of successes in number_of_values independent Bernoulli trials, each with success probability p0\n",
    "for i in Sample_Data:\n",
    "    if(i>50000):\n",
    "       no_of_success+=1 \n",
    "X=no_of_success\n",
    "print(\"Number of successes, X = \" + str(X))"
   ]
  },
  {
   "cell_type": "code",
   "execution_count": 909,
   "metadata": {},
   "outputs": [],
   "source": [
    "# Determining if the test is one tailed or two tailed and alloting alpha value\n",
    "test=\"one_tailed_test\"\n",
    "if (test==\"two_tailed_test\"):\n",
    "    number_of_tails=2\n",
    "    alpha = 0.025\n",
    "elif (test==\"one_tailed_test\"):\n",
    "    number_of_tails=1\n",
    "    alpha =0.05"
   ]
  },
  {
   "cell_type": "code",
   "execution_count": 910,
   "metadata": {},
   "outputs": [],
   "source": [
    "p_hat = X/no_of_values\n",
    "# Z score\n",
    "z_score=(p_hat-p0)/(np.sqrt((p0 * (1-p0))/(no_of_values)))\n",
    "# p Value\n",
    "p_value = scipy.stats.norm.sf(z_score)"
   ]
  },
  {
   "cell_type": "code",
   "execution_count": 911,
   "metadata": {},
   "outputs": [
    {
     "name": "stdout",
     "output_type": "stream",
     "text": [
      "\n",
      "Null hypothesis is rejected and alternate hypothesis is accepted.\n",
      "Accepted hypothesis is H1: More than 35% of the loan amount is greater than 50,000.\n"
     ]
    }
   ],
   "source": [
    "if p_value > alpha:\n",
    "    print('\\nFailed to reject the null hypothesis. Null hypothesis is plausible and hence alternate hypothesis is also plausible.')\n",
    " \n",
    "else:\n",
    "    print('\\nNull hypothesis is rejected and alternate hypothesis is accepted.')\n",
    "    print('Accepted hypothesis is H1:',H1)"
   ]
  },
  {
   "cell_type": "code",
   "execution_count": 912,
   "metadata": {},
   "outputs": [
    {
     "name": "stdout",
     "output_type": "stream",
     "text": [
      "\n",
      "z_score = 131.6637547548\n",
      "p_value = 0.0000000000\n",
      "The test is 1 tailed test and is a right tailed test.\n"
     ]
    }
   ],
   "source": [
    "print('\\nz_score = %.10f' % (z_score))\n",
    "print('p_value = %.10f' % (p_value))\n",
    "print('The test is '+str(number_of_tails)+' tailed test and is a right tailed test.')"
   ]
  },
  {
   "cell_type": "code",
   "execution_count": 913,
   "metadata": {},
   "outputs": [
    {
     "name": "stdout",
     "output_type": "stream",
     "text": [
      "\n",
      "Total number of values in the column, n = 11780\n"
     ]
    }
   ],
   "source": [
    "Sample_Data=loan1['verification_status']\n",
    "no_of_values=len(loan1)\n",
    "print(\"\\nTotal number of values in the column, n = \" + str(no_of_values))"
   ]
  },
  {
   "cell_type": "code",
   "execution_count": 914,
   "metadata": {},
   "outputs": [
    {
     "name": "stdout",
     "output_type": "stream",
     "text": [
      "p0 = 0.65\n"
     ]
    }
   ],
   "source": [
    "p0 = 0.65\n",
    "print(\"p0 = \" + str(p0))"
   ]
  },
  {
   "cell_type": "code",
   "execution_count": 915,
   "metadata": {},
   "outputs": [],
   "source": [
    "# Hypothesis\n",
    "# Null Hypothesis, H0: Less than or equal to 65% of the people have their verification status as verified. (p <= 0.65)"
   ]
  },
  {
   "cell_type": "code",
   "execution_count": 916,
   "metadata": {},
   "outputs": [
    {
     "name": "stdout",
     "output_type": "stream",
     "text": [
      "\n",
      "Null Hypothesis, H0: Less than or equal to 65% of the people have their verification status as verified. (p <= 0.65)\n"
     ]
    }
   ],
   "source": [
    "H0=\"Less than or equal to 65% of the people have their verification status as verified.\"\n",
    "print(\"\\nNull Hypothesis, H0: \" + H0 + \" (p <= 0.65)\")"
   ]
  },
  {
   "cell_type": "code",
   "execution_count": 917,
   "metadata": {},
   "outputs": [
    {
     "name": "stdout",
     "output_type": "stream",
     "text": [
      "Alternate Hypothesis, H1: More than 65% of the people have their verification status as verified. (p > 0.65)\n"
     ]
    }
   ],
   "source": [
    "# Alternate Hypothesis, H1: More than 65% of the people have their verification status as verified. (p > 0.65)\n",
    "H1 = \"More than 65% of the people have their verification status as verified.\"\n",
    "print(\"Alternate Hypothesis, H1: \" + H1 + \" (p > 0.65)\")"
   ]
  },
  {
   "cell_type": "code",
   "execution_count": 918,
   "metadata": {},
   "outputs": [
    {
     "name": "stdout",
     "output_type": "stream",
     "text": [
      "Conditions n*p0 > 10 and n*(1-p0)>10 are satisfied.\n"
     ]
    }
   ],
   "source": [
    "#Checking the condition of  n*p0 > 10 and n*(1-p0)>10\n",
    "if (no_of_values*p0 > 10 and no_of_values*(1-p0)>10 ):\n",
    "  print(\"Conditions n*p0 > 10 and n*(1-p0)>10 are satisfied.\")\n",
    "else:\n",
    "  print(\"Conditions n*p0 > 10 and n*(1-p0)>10 are not satisfied.\")\n",
    "  raise StopExecution"
   ]
  },
  {
   "cell_type": "code",
   "execution_count": 919,
   "metadata": {},
   "outputs": [
    {
     "name": "stdout",
     "output_type": "stream",
     "text": [
      "Number of successes, X = 9119\n"
     ]
    }
   ],
   "source": [
    "# Code for number of successes in number_of_values independent Bernoulli trials, each with success probability p0\n",
    "no_of_success=0\n",
    "for i in Sample_Data:\n",
    "    if(i==\"verified\"):\n",
    "       no_of_success+=1 \n",
    "X=no_of_success\n",
    "print(\"Number of successes, X = \" + str(X))"
   ]
  },
  {
   "cell_type": "code",
   "execution_count": 920,
   "metadata": {},
   "outputs": [],
   "source": [
    "# Determining if the test is one tailed or two tailed and alloting alpha value\n",
    "test=\"one_tailed_test\"\n",
    "if (test==\"two_tailed_test\"):\n",
    "    number_of_tails=2\n",
    "    alpha = 0.025\n",
    "elif (test==\"one_tailed_test\"):\n",
    "    number_of_tails=1\n",
    "    alpha =0.05"
   ]
  },
  {
   "cell_type": "code",
   "execution_count": 921,
   "metadata": {},
   "outputs": [],
   "source": [
    "p_hat = X/no_of_values\n",
    "# Z score\n",
    "z_score=(p_hat-p0)/(np.sqrt((p0 * (1-p0))/(no_of_values))) \n",
    "# p Value\n",
    "p_value = scipy.stats.norm.sf(z_score)"
   ]
  },
  {
   "cell_type": "code",
   "execution_count": 922,
   "metadata": {},
   "outputs": [
    {
     "name": "stdout",
     "output_type": "stream",
     "text": [
      "\n",
      "Null hypothesis is rejected and alternate hypothesis is accepted.\n",
      "Accepted hypothesis is H1: More than 65% of the people have their verification status as verified.\n"
     ]
    }
   ],
   "source": [
    "if p_value > alpha:\n",
    "    print('\\nFailed to reject the null hypothesis. Null hypothesis is plausible and hence alternate hypothesis is also plausible.')\n",
    " \n",
    "else:\n",
    "    print('\\nNull hypothesis is rejected and alternate hypothesis is accepted.')\n",
    "    print('Accepted hypothesis is H1:',H1)"
   ]
  },
  {
   "cell_type": "code",
   "execution_count": 923,
   "metadata": {},
   "outputs": [
    {
     "name": "stdout",
     "output_type": "stream",
     "text": [
      "\n",
      "z_score = 28.2412572552\n",
      "p_value = 0.0000000000\n",
      "The test is 1 tailed test and is a right tailed test.\n"
     ]
    }
   ],
   "source": [
    "print('\\nz_score = %.10f' % (z_score))\n",
    "print('p_value = %.10f' % (p_value))\n",
    "print('The test is '+str(number_of_tails)+' tailed test and is a right tailed test.')"
   ]
  },
  {
   "cell_type": "code",
   "execution_count": 924,
   "metadata": {},
   "outputs": [],
   "source": [
    "Sample_Data=loan1['term']"
   ]
  },
  {
   "cell_type": "code",
   "execution_count": 925,
   "metadata": {},
   "outputs": [
    {
     "name": "stdout",
     "output_type": "stream",
     "text": [
      "\n",
      "Total number of values in the column, n = 11780\n"
     ]
    }
   ],
   "source": [
    "no_of_values=len(loan1)\n",
    "print(\"\\nTotal number of values in the column, n = \" + str(no_of_values))"
   ]
  },
  {
   "cell_type": "code",
   "execution_count": 926,
   "metadata": {},
   "outputs": [
    {
     "name": "stdout",
     "output_type": "stream",
     "text": [
      "p0 = 0.4\n"
     ]
    }
   ],
   "source": [
    "p0 = 0.40\n",
    "print(\"p0 = \" + str(p0))"
   ]
  },
  {
   "cell_type": "code",
   "execution_count": 927,
   "metadata": {},
   "outputs": [],
   "source": [
    "# Hypothesis\n",
    "# Null Hypothesis, H0: Less than or equal to 40% of the people have their loan term as 36 months. (p <= 0.40)"
   ]
  },
  {
   "cell_type": "code",
   "execution_count": 928,
   "metadata": {},
   "outputs": [
    {
     "name": "stdout",
     "output_type": "stream",
     "text": [
      "\n",
      "Null Hypothesis, H0: Less than or equal to 40% of the people have their loan term as 36 months. (p <= 0.40)\n"
     ]
    }
   ],
   "source": [
    "H0=\"Less than or equal to 40% of the people have their loan term as 36 months.\"\n",
    "print(\"\\nNull Hypothesis, H0: \" + H0 + \" (p <= 0.40)\")"
   ]
  },
  {
   "cell_type": "code",
   "execution_count": 929,
   "metadata": {},
   "outputs": [
    {
     "name": "stdout",
     "output_type": "stream",
     "text": [
      "Alternate Hypothesis, H1: More than 40% of the people have their loan term as 36 months. (p > 0.40)\n"
     ]
    }
   ],
   "source": [
    "# Alternate Hypothesis, H1: More than 40% of the people have their loan term as 36 months. (p > 0.40)\n",
    "H1 = \"More than 40% of the people have their loan term as 36 months.\"\n",
    "print(\"Alternate Hypothesis, H1: \" + H1 + \" (p > 0.40)\")"
   ]
  },
  {
   "cell_type": "code",
   "execution_count": 930,
   "metadata": {},
   "outputs": [
    {
     "name": "stdout",
     "output_type": "stream",
     "text": [
      "Conditions n*p0 > 10 and n*(1-p0)>10 are satisfied.\n"
     ]
    }
   ],
   "source": [
    "#Checking the condition of  n*p0 > 10 and n*(1-p0)>10\n",
    "if (no_of_values*p0 > 10 and no_of_values*(1-p0)>10 ):\n",
    "  print(\"Conditions n*p0 > 10 and n*(1-p0)>10 are satisfied.\")\n",
    "else:\n",
    "  print(\"Conditions n*p0 > 10 and n*(1-p0)>10 are not satisfied.\")\n",
    "  raise StopExecution"
   ]
  },
  {
   "cell_type": "code",
   "execution_count": 931,
   "metadata": {},
   "outputs": [
    {
     "name": "stdout",
     "output_type": "stream",
     "text": [
      "Number of successes, X = 9610\n"
     ]
    }
   ],
   "source": [
    "# Code for number of successes in number_of_values independent Bernoulli trials, each with success probability p0\n",
    "no_of_success=0\n",
    "for i in Sample_Data:\n",
    "    if(i=='36 months'):\n",
    "       no_of_success+=1 \n",
    "X=no_of_success\n",
    "print(\"Number of successes, X = \" + str(X))"
   ]
  },
  {
   "cell_type": "code",
   "execution_count": 932,
   "metadata": {},
   "outputs": [],
   "source": [
    "# Determining if the test is one tailed or two tailed and alloting alpha value\n",
    "test=\"one_tailed_test\"\n",
    "if (test==\"two_tailed_test\"):\n",
    "    number_of_tails=2\n",
    "    alpha = 0.025\n",
    "elif (test==\"one_tailed_test\"):\n",
    "    number_of_tails=1\n",
    "    alpha =0.05"
   ]
  },
  {
   "cell_type": "code",
   "execution_count": 933,
   "metadata": {},
   "outputs": [],
   "source": [
    "p_hat = X/no_of_values\n",
    "# Z score\n",
    "z_score=(p_hat-p0)/(np.sqrt((p0 * (1-p0))/(no_of_values)))\n",
    "# p Value\n",
    "p_value = scipy.stats.norm.sf(z_score)"
   ]
  },
  {
   "cell_type": "code",
   "execution_count": 934,
   "metadata": {},
   "outputs": [
    {
     "name": "stdout",
     "output_type": "stream",
     "text": [
      "\n",
      "Null hypothesis is rejected and alternate hypothesis is accepted.\n",
      "Accepted hypothesis is H1: More than 40% of the people have their loan term as 36 months.\n"
     ]
    }
   ],
   "source": [
    "if p_value > alpha:\n",
    "    print('\\nFailed to reject the null hypothesis. Null hypothesis is plausible and hence alternate hypothesis is also plausible.')\n",
    " \n",
    "else:\n",
    "    print('\\nNull hypothesis is rejected and alternate hypothesis is accepted.')\n",
    "    print('Accepted hypothesis is H1:',H1)"
   ]
  },
  {
   "cell_type": "code",
   "execution_count": 935,
   "metadata": {},
   "outputs": [
    {
     "name": "stdout",
     "output_type": "stream",
     "text": [
      "\n",
      "z_score = 92.1171546208\n",
      "p_value = 0.0000000000\n",
      "The test is 1 tailed test and is a right tailed test.\n"
     ]
    }
   ],
   "source": [
    "print('\\nz_score = %.10f' % (z_score))\n",
    "print('p_value = %.10f' % (p_value))\n",
    "print('The test is '+str(number_of_tails)+' tailed test and is a right tailed test.')"
   ]
  },
  {
   "cell_type": "code",
   "execution_count": 936,
   "metadata": {},
   "outputs": [],
   "source": [
    "Sample_Data=loan1['purpose']"
   ]
  },
  {
   "cell_type": "code",
   "execution_count": 937,
   "metadata": {},
   "outputs": [
    {
     "name": "stdout",
     "output_type": "stream",
     "text": [
      "\n",
      "Total number of values in the column, n = 11780\n"
     ]
    }
   ],
   "source": [
    "no_of_values=len(loan1)\n",
    "print(\"\\nTotal number of values in the column, n = \" + str(no_of_values))"
   ]
  },
  {
   "cell_type": "code",
   "execution_count": 938,
   "metadata": {},
   "outputs": [
    {
     "name": "stdout",
     "output_type": "stream",
     "text": [
      "p0 = 0.3\n"
     ]
    }
   ],
   "source": [
    "p0 = 0.30\n",
    "print(\"p0 = \" + str(p0))"
   ]
  },
  {
   "cell_type": "code",
   "execution_count": 939,
   "metadata": {},
   "outputs": [
    {
     "name": "stdout",
     "output_type": "stream",
     "text": [
      "\n",
      "Null Hypothesis, H0: Less than or equal to 30% of people have their lone purpose as debt consolidation. (p <= 0.30)\n"
     ]
    }
   ],
   "source": [
    "# Hypothesis\n",
    "# Null Hypothesis, H0: Less than or equal to 30% of people have their lone purpose as debt consolidation. (p <= 0.30)\n",
    "H0=\"Less than or equal to 30% of people have their lone purpose as debt consolidation.\"\n",
    "print(\"\\nNull Hypothesis, H0: \" + H0 + \" (p <= 0.30)\")"
   ]
  },
  {
   "cell_type": "code",
   "execution_count": 940,
   "metadata": {},
   "outputs": [
    {
     "name": "stdout",
     "output_type": "stream",
     "text": [
      "Alternate Hypothesis, H1:  More than 30% of people have their lone purpose as debt consolidation. (p > 0.30)\n"
     ]
    }
   ],
   "source": [
    "# Alternate Hypothesis, H1: More than 30% of people have their lone purpose as debt consolidation. (p > 0.30)\n",
    "H1 = \" More than 30% of people have their lone purpose as debt consolidation.\"\n",
    "print(\"Alternate Hypothesis, H1: \" + H1 + \" (p > 0.30)\")"
   ]
  },
  {
   "cell_type": "code",
   "execution_count": 941,
   "metadata": {},
   "outputs": [
    {
     "name": "stdout",
     "output_type": "stream",
     "text": [
      "Conditions n*p0 > 10 and n*(1-p0)>10 are satisfied.\n"
     ]
    }
   ],
   "source": [
    "#Checking the condition of  n*p0 > 10 and n*(1-p0)>10\n",
    "if (no_of_values*p0 > 10 and no_of_values*(1-p0)>10 ):\n",
    "  print(\"Conditions n*p0 > 10 and n*(1-p0)>10 are satisfied.\")\n",
    "else:\n",
    "  print(\"Conditions n*p0 > 10 and n*(1-p0)>10 are not satisfied.\")\n",
    "  raise StopExecution"
   ]
  },
  {
   "cell_type": "code",
   "execution_count": 942,
   "metadata": {},
   "outputs": [
    {
     "name": "stdout",
     "output_type": "stream",
     "text": [
      "Number of successes, X = 5990\n"
     ]
    }
   ],
   "source": [
    "# Code for number of successes in number_of_values independent Bernoulli trials, each with success probability p0\n",
    "no_of_success=0\n",
    "for i in Sample_Data:\n",
    "    if(i=='debt_consolidation'):\n",
    "       no_of_success+=1 \n",
    "X=no_of_success\n",
    "print(\"Number of successes, X = \" + str(X))"
   ]
  },
  {
   "cell_type": "code",
   "execution_count": 943,
   "metadata": {},
   "outputs": [],
   "source": [
    "# Determining if the test is one tailed or two tailed and alloting alpha value\n",
    "test=\"one_tailed_test\"\n",
    "if (test==\"two_tailed_test\"):\n",
    "    number_of_tails=2\n",
    "    alpha = 0.025\n",
    "elif (test==\"one_tailed_test\"):\n",
    "    number_of_tails=1\n",
    "    alpha =0.05"
   ]
  },
  {
   "cell_type": "code",
   "execution_count": 944,
   "metadata": {},
   "outputs": [],
   "source": [
    "p_hat = X/no_of_values\n",
    "# Z score\n",
    "z_score=(p_hat-p0)/(np.sqrt((p0 * (1-p0))/(no_of_values)))\n",
    "# p Value\n",
    "p_value = scipy.stats.norm.sf(z_score)"
   ]
  },
  {
   "cell_type": "code",
   "execution_count": 945,
   "metadata": {},
   "outputs": [
    {
     "name": "stdout",
     "output_type": "stream",
     "text": [
      "\n",
      "Null hypothesis is rejected and alternate hypothesis is accepted.\n",
      "Accepted hypothesis is H1:\n"
     ]
    }
   ],
   "source": [
    "if p_value > alpha:\n",
    "    print('\\nFailed to reject the null hypothesis. Null hypothesis is plausible and hence alternate hypothesis is also plausible.')\n",
    " \n",
    "else:\n",
    "    print('\\nNull hypothesis is rejected and alternate hypothesis is accepted.')\n",
    "    print('Accepted hypothesis is H1:')"
   ]
  },
  {
   "cell_type": "code",
   "execution_count": 947,
   "metadata": {},
   "outputs": [
    {
     "name": "stdout",
     "output_type": "stream",
     "text": [
      "\n",
      "z_score = 49.3794297077\n",
      "p_value = 0.0000000000\n",
      "The test is 1 tailed test and is a right tailed test.\n"
     ]
    }
   ],
   "source": [
    "print('\\nz_score = %.10f' % (z_score))\n",
    "print('p_value = %.10f' % (p_value))\n",
    "print('The test is '+str(number_of_tails)+' tailed test and is a right tailed test.')"
   ]
  },
  {
   "cell_type": "code",
   "execution_count": null,
   "metadata": {},
   "outputs": [],
   "source": [
    "#Correlation:\n",
    "#statistical measure that indicates the extent to which two or more variables fluctuate in relation to each other. \n",
    "#Types\n",
    "#1]Positive Correlation\n",
    "#-> A positive correlation indicates the extent to which those variables increase or decrease in parallel\n",
    "#2]Negative Correlation\n",
    "#->A Negative correlation indicates the extent to which one variable increases as the other decreases\n",
    "#Correlation coefficient:\n",
    "#statistical measure, of the degree to which changes to the value of one variable predict change to the value of another."
   ]
  },
  {
   "cell_type": "code",
   "execution_count": null,
   "metadata": {},
   "outputs": [],
   "source": [
    "#Correlation values range between -1 and 1.\n",
    "#There are two key components of a correlation value:\n",
    "#->magnitude – The larger the magnitude (closer to 1 or -1), the stronger the correlation\n",
    "#->sign – If negative, there is an inverse correlation. If positive, there is a regular correlation."
   ]
  },
  {
   "cell_type": "code",
   "execution_count": null,
   "metadata": {},
   "outputs": [],
   "source": [
    "#There are 3 methods from which we can find the correlation between the variables:\n",
    "#1]Pearson Correlation\n",
    "#Assumptions are:\n",
    "#->Each observation should have a pair of values.\n",
    "#->Each variable should be continuous.\n",
    "#->Each variable should be normally distributed.\n",
    "#->It should be the absence of outliers.\n",
    "#->It assumes linearity and homoscedasticity."
   ]
  },
  {
   "cell_type": "code",
   "execution_count": 948,
   "metadata": {},
   "outputs": [
    {
     "name": "stdout",
     "output_type": "stream",
     "text": [
      "Correlation by Pearson Method\n"
     ]
    },
    {
     "data": {
      "text/html": [
       "<div>\n",
       "<style scoped>\n",
       "    .dataframe tbody tr th:only-of-type {\n",
       "        vertical-align: middle;\n",
       "    }\n",
       "\n",
       "    .dataframe tbody tr th {\n",
       "        vertical-align: top;\n",
       "    }\n",
       "\n",
       "    .dataframe thead th {\n",
       "        text-align: right;\n",
       "    }\n",
       "</style>\n",
       "<table border=\"1\" class=\"dataframe\">\n",
       "  <thead>\n",
       "    <tr style=\"text-align: right;\">\n",
       "      <th></th>\n",
       "      <th>loan_amnt</th>\n",
       "      <th>int_rate</th>\n",
       "      <th>emp_length</th>\n",
       "      <th>annual_inc</th>\n",
       "      <th>dti</th>\n",
       "      <th>delinq_2yrs</th>\n",
       "      <th>revol_util</th>\n",
       "      <th>total_acc</th>\n",
       "      <th>bad_loan</th>\n",
       "      <th>longest_credit_length</th>\n",
       "    </tr>\n",
       "  </thead>\n",
       "  <tbody>\n",
       "    <tr>\n",
       "      <th>loan_amnt</th>\n",
       "      <td>1.000000</td>\n",
       "      <td>0.199952</td>\n",
       "      <td>0.117665</td>\n",
       "      <td>0.446026</td>\n",
       "      <td>0.034375</td>\n",
       "      <td>-0.004792</td>\n",
       "      <td>0.071662</td>\n",
       "      <td>0.246140</td>\n",
       "      <td>0.044982</td>\n",
       "      <td>0.125671</td>\n",
       "    </tr>\n",
       "    <tr>\n",
       "      <th>int_rate</th>\n",
       "      <td>0.199952</td>\n",
       "      <td>1.000000</td>\n",
       "      <td>-0.001233</td>\n",
       "      <td>-0.008603</td>\n",
       "      <td>0.171450</td>\n",
       "      <td>0.120277</td>\n",
       "      <td>0.409271</td>\n",
       "      <td>-0.017494</td>\n",
       "      <td>0.252290</td>\n",
       "      <td>-0.054726</td>\n",
       "    </tr>\n",
       "    <tr>\n",
       "      <th>emp_length</th>\n",
       "      <td>0.117665</td>\n",
       "      <td>-0.001233</td>\n",
       "      <td>1.000000</td>\n",
       "      <td>0.109241</td>\n",
       "      <td>0.054124</td>\n",
       "      <td>0.005451</td>\n",
       "      <td>0.002233</td>\n",
       "      <td>0.179328</td>\n",
       "      <td>0.010639</td>\n",
       "      <td>0.289160</td>\n",
       "    </tr>\n",
       "    <tr>\n",
       "      <th>annual_inc</th>\n",
       "      <td>0.446026</td>\n",
       "      <td>-0.008603</td>\n",
       "      <td>0.109241</td>\n",
       "      <td>1.000000</td>\n",
       "      <td>-0.187709</td>\n",
       "      <td>0.035080</td>\n",
       "      <td>0.020419</td>\n",
       "      <td>0.287105</td>\n",
       "      <td>-0.090721</td>\n",
       "      <td>0.098524</td>\n",
       "    </tr>\n",
       "    <tr>\n",
       "      <th>dti</th>\n",
       "      <td>0.034375</td>\n",
       "      <td>0.171450</td>\n",
       "      <td>0.054124</td>\n",
       "      <td>-0.187709</td>\n",
       "      <td>1.000000</td>\n",
       "      <td>0.006806</td>\n",
       "      <td>0.237855</td>\n",
       "      <td>0.221137</td>\n",
       "      <td>0.121120</td>\n",
       "      <td>0.100209</td>\n",
       "    </tr>\n",
       "    <tr>\n",
       "      <th>delinq_2yrs</th>\n",
       "      <td>-0.004792</td>\n",
       "      <td>0.120277</td>\n",
       "      <td>0.005451</td>\n",
       "      <td>0.035080</td>\n",
       "      <td>0.006806</td>\n",
       "      <td>1.000000</td>\n",
       "      <td>-0.045237</td>\n",
       "      <td>0.110829</td>\n",
       "      <td>0.034502</td>\n",
       "      <td>0.088429</td>\n",
       "    </tr>\n",
       "    <tr>\n",
       "      <th>revol_util</th>\n",
       "      <td>0.071662</td>\n",
       "      <td>0.409271</td>\n",
       "      <td>0.002233</td>\n",
       "      <td>0.020419</td>\n",
       "      <td>0.237855</td>\n",
       "      <td>-0.045237</td>\n",
       "      <td>1.000000</td>\n",
       "      <td>-0.127586</td>\n",
       "      <td>0.123847</td>\n",
       "      <td>-0.104567</td>\n",
       "    </tr>\n",
       "    <tr>\n",
       "      <th>total_acc</th>\n",
       "      <td>0.246140</td>\n",
       "      <td>-0.017494</td>\n",
       "      <td>0.179328</td>\n",
       "      <td>0.287105</td>\n",
       "      <td>0.221137</td>\n",
       "      <td>0.110829</td>\n",
       "      <td>-0.127586</td>\n",
       "      <td>1.000000</td>\n",
       "      <td>-0.036901</td>\n",
       "      <td>0.345908</td>\n",
       "    </tr>\n",
       "    <tr>\n",
       "      <th>bad_loan</th>\n",
       "      <td>0.044982</td>\n",
       "      <td>0.252290</td>\n",
       "      <td>0.010639</td>\n",
       "      <td>-0.090721</td>\n",
       "      <td>0.121120</td>\n",
       "      <td>0.034502</td>\n",
       "      <td>0.123847</td>\n",
       "      <td>-0.036901</td>\n",
       "      <td>1.000000</td>\n",
       "      <td>-0.002264</td>\n",
       "    </tr>\n",
       "    <tr>\n",
       "      <th>longest_credit_length</th>\n",
       "      <td>0.125671</td>\n",
       "      <td>-0.054726</td>\n",
       "      <td>0.289160</td>\n",
       "      <td>0.098524</td>\n",
       "      <td>0.100209</td>\n",
       "      <td>0.088429</td>\n",
       "      <td>-0.104567</td>\n",
       "      <td>0.345908</td>\n",
       "      <td>-0.002264</td>\n",
       "      <td>1.000000</td>\n",
       "    </tr>\n",
       "  </tbody>\n",
       "</table>\n",
       "</div>"
      ],
      "text/plain": [
       "                       loan_amnt  int_rate  emp_length  annual_inc       dti  \\\n",
       "loan_amnt               1.000000  0.199952    0.117665    0.446026  0.034375   \n",
       "int_rate                0.199952  1.000000   -0.001233   -0.008603  0.171450   \n",
       "emp_length              0.117665 -0.001233    1.000000    0.109241  0.054124   \n",
       "annual_inc              0.446026 -0.008603    0.109241    1.000000 -0.187709   \n",
       "dti                     0.034375  0.171450    0.054124   -0.187709  1.000000   \n",
       "delinq_2yrs            -0.004792  0.120277    0.005451    0.035080  0.006806   \n",
       "revol_util              0.071662  0.409271    0.002233    0.020419  0.237855   \n",
       "total_acc               0.246140 -0.017494    0.179328    0.287105  0.221137   \n",
       "bad_loan                0.044982  0.252290    0.010639   -0.090721  0.121120   \n",
       "longest_credit_length   0.125671 -0.054726    0.289160    0.098524  0.100209   \n",
       "\n",
       "                       delinq_2yrs  revol_util  total_acc  bad_loan  \\\n",
       "loan_amnt                -0.004792    0.071662   0.246140  0.044982   \n",
       "int_rate                  0.120277    0.409271  -0.017494  0.252290   \n",
       "emp_length                0.005451    0.002233   0.179328  0.010639   \n",
       "annual_inc                0.035080    0.020419   0.287105 -0.090721   \n",
       "dti                       0.006806    0.237855   0.221137  0.121120   \n",
       "delinq_2yrs               1.000000   -0.045237   0.110829  0.034502   \n",
       "revol_util               -0.045237    1.000000  -0.127586  0.123847   \n",
       "total_acc                 0.110829   -0.127586   1.000000 -0.036901   \n",
       "bad_loan                  0.034502    0.123847  -0.036901  1.000000   \n",
       "longest_credit_length     0.088429   -0.104567   0.345908 -0.002264   \n",
       "\n",
       "                       longest_credit_length  \n",
       "loan_amnt                           0.125671  \n",
       "int_rate                           -0.054726  \n",
       "emp_length                          0.289160  \n",
       "annual_inc                          0.098524  \n",
       "dti                                 0.100209  \n",
       "delinq_2yrs                         0.088429  \n",
       "revol_util                         -0.104567  \n",
       "total_acc                           0.345908  \n",
       "bad_loan                           -0.002264  \n",
       "longest_credit_length               1.000000  "
      ]
     },
     "execution_count": 948,
     "metadata": {},
     "output_type": "execute_result"
    }
   ],
   "source": [
    "print(\"Correlation by Pearson Method\")\n",
    "loan1.corr(method='pearson')"
   ]
  },
  {
   "cell_type": "code",
   "execution_count": null,
   "metadata": {},
   "outputs": [],
   "source": [
    "#2]Spearman Correlation\n",
    "#Assumptions are:\n",
    "#->Pairs of observations are independent.\n",
    "#->Two variables should be measured on an ordinal, interval or ratio scale.\n",
    "#->It assumes that there is a monotonic relationship between the two variables.\n",
    "#3]Kendall Correlation\n",
    "#Assumptions are\n",
    "#It's the same as assumptions of Spearman's rank correlation coefficient"
   ]
  },
  {
   "cell_type": "code",
   "execution_count": 949,
   "metadata": {},
   "outputs": [
    {
     "name": "stdout",
     "output_type": "stream",
     "text": [
      "Correlation by Spearman Method\n"
     ]
    },
    {
     "data": {
      "text/html": [
       "<div>\n",
       "<style scoped>\n",
       "    .dataframe tbody tr th:only-of-type {\n",
       "        vertical-align: middle;\n",
       "    }\n",
       "\n",
       "    .dataframe tbody tr th {\n",
       "        vertical-align: top;\n",
       "    }\n",
       "\n",
       "    .dataframe thead th {\n",
       "        text-align: right;\n",
       "    }\n",
       "</style>\n",
       "<table border=\"1\" class=\"dataframe\">\n",
       "  <thead>\n",
       "    <tr style=\"text-align: right;\">\n",
       "      <th></th>\n",
       "      <th>loan_amnt</th>\n",
       "      <th>int_rate</th>\n",
       "      <th>emp_length</th>\n",
       "      <th>annual_inc</th>\n",
       "      <th>dti</th>\n",
       "      <th>delinq_2yrs</th>\n",
       "      <th>revol_util</th>\n",
       "      <th>total_acc</th>\n",
       "      <th>bad_loan</th>\n",
       "      <th>longest_credit_length</th>\n",
       "    </tr>\n",
       "  </thead>\n",
       "  <tbody>\n",
       "    <tr>\n",
       "      <th>loan_amnt</th>\n",
       "      <td>1.000000</td>\n",
       "      <td>0.158027</td>\n",
       "      <td>0.124169</td>\n",
       "      <td>0.497714</td>\n",
       "      <td>0.051376</td>\n",
       "      <td>-0.004167</td>\n",
       "      <td>0.087911</td>\n",
       "      <td>0.263230</td>\n",
       "      <td>0.037164</td>\n",
       "      <td>0.142279</td>\n",
       "    </tr>\n",
       "    <tr>\n",
       "      <th>int_rate</th>\n",
       "      <td>0.158027</td>\n",
       "      <td>1.000000</td>\n",
       "      <td>-0.004985</td>\n",
       "      <td>-0.027297</td>\n",
       "      <td>0.167886</td>\n",
       "      <td>0.129197</td>\n",
       "      <td>0.416610</td>\n",
       "      <td>-0.031646</td>\n",
       "      <td>0.247325</td>\n",
       "      <td>-0.060694</td>\n",
       "    </tr>\n",
       "    <tr>\n",
       "      <th>emp_length</th>\n",
       "      <td>0.124169</td>\n",
       "      <td>-0.004985</td>\n",
       "      <td>1.000000</td>\n",
       "      <td>0.180394</td>\n",
       "      <td>0.049463</td>\n",
       "      <td>0.010786</td>\n",
       "      <td>0.002860</td>\n",
       "      <td>0.183374</td>\n",
       "      <td>0.010492</td>\n",
       "      <td>0.324041</td>\n",
       "    </tr>\n",
       "    <tr>\n",
       "      <th>annual_inc</th>\n",
       "      <td>0.497714</td>\n",
       "      <td>-0.027297</td>\n",
       "      <td>0.180394</td>\n",
       "      <td>1.000000</td>\n",
       "      <td>-0.158733</td>\n",
       "      <td>0.053295</td>\n",
       "      <td>0.054887</td>\n",
       "      <td>0.363084</td>\n",
       "      <td>-0.110236</td>\n",
       "      <td>0.150934</td>\n",
       "    </tr>\n",
       "    <tr>\n",
       "      <th>dti</th>\n",
       "      <td>0.051376</td>\n",
       "      <td>0.167886</td>\n",
       "      <td>0.049463</td>\n",
       "      <td>-0.158733</td>\n",
       "      <td>1.000000</td>\n",
       "      <td>-0.011017</td>\n",
       "      <td>0.223042</td>\n",
       "      <td>0.233076</td>\n",
       "      <td>0.118262</td>\n",
       "      <td>0.106916</td>\n",
       "    </tr>\n",
       "    <tr>\n",
       "      <th>delinq_2yrs</th>\n",
       "      <td>-0.004167</td>\n",
       "      <td>0.129197</td>\n",
       "      <td>0.010786</td>\n",
       "      <td>0.053295</td>\n",
       "      <td>-0.011017</td>\n",
       "      <td>1.000000</td>\n",
       "      <td>-0.053693</td>\n",
       "      <td>0.121494</td>\n",
       "      <td>0.031411</td>\n",
       "      <td>0.096736</td>\n",
       "    </tr>\n",
       "    <tr>\n",
       "      <th>revol_util</th>\n",
       "      <td>0.087911</td>\n",
       "      <td>0.416610</td>\n",
       "      <td>0.002860</td>\n",
       "      <td>0.054887</td>\n",
       "      <td>0.223042</td>\n",
       "      <td>-0.053693</td>\n",
       "      <td>1.000000</td>\n",
       "      <td>-0.130948</td>\n",
       "      <td>0.123641</td>\n",
       "      <td>-0.098138</td>\n",
       "    </tr>\n",
       "    <tr>\n",
       "      <th>total_acc</th>\n",
       "      <td>0.263230</td>\n",
       "      <td>-0.031646</td>\n",
       "      <td>0.183374</td>\n",
       "      <td>0.363084</td>\n",
       "      <td>0.233076</td>\n",
       "      <td>0.121494</td>\n",
       "      <td>-0.130948</td>\n",
       "      <td>1.000000</td>\n",
       "      <td>-0.037874</td>\n",
       "      <td>0.413881</td>\n",
       "    </tr>\n",
       "    <tr>\n",
       "      <th>bad_loan</th>\n",
       "      <td>0.037164</td>\n",
       "      <td>0.247325</td>\n",
       "      <td>0.010492</td>\n",
       "      <td>-0.110236</td>\n",
       "      <td>0.118262</td>\n",
       "      <td>0.031411</td>\n",
       "      <td>0.123641</td>\n",
       "      <td>-0.037874</td>\n",
       "      <td>1.000000</td>\n",
       "      <td>-0.005459</td>\n",
       "    </tr>\n",
       "    <tr>\n",
       "      <th>longest_credit_length</th>\n",
       "      <td>0.142279</td>\n",
       "      <td>-0.060694</td>\n",
       "      <td>0.324041</td>\n",
       "      <td>0.150934</td>\n",
       "      <td>0.106916</td>\n",
       "      <td>0.096736</td>\n",
       "      <td>-0.098138</td>\n",
       "      <td>0.413881</td>\n",
       "      <td>-0.005459</td>\n",
       "      <td>1.000000</td>\n",
       "    </tr>\n",
       "  </tbody>\n",
       "</table>\n",
       "</div>"
      ],
      "text/plain": [
       "                       loan_amnt  int_rate  emp_length  annual_inc       dti  \\\n",
       "loan_amnt               1.000000  0.158027    0.124169    0.497714  0.051376   \n",
       "int_rate                0.158027  1.000000   -0.004985   -0.027297  0.167886   \n",
       "emp_length              0.124169 -0.004985    1.000000    0.180394  0.049463   \n",
       "annual_inc              0.497714 -0.027297    0.180394    1.000000 -0.158733   \n",
       "dti                     0.051376  0.167886    0.049463   -0.158733  1.000000   \n",
       "delinq_2yrs            -0.004167  0.129197    0.010786    0.053295 -0.011017   \n",
       "revol_util              0.087911  0.416610    0.002860    0.054887  0.223042   \n",
       "total_acc               0.263230 -0.031646    0.183374    0.363084  0.233076   \n",
       "bad_loan                0.037164  0.247325    0.010492   -0.110236  0.118262   \n",
       "longest_credit_length   0.142279 -0.060694    0.324041    0.150934  0.106916   \n",
       "\n",
       "                       delinq_2yrs  revol_util  total_acc  bad_loan  \\\n",
       "loan_amnt                -0.004167    0.087911   0.263230  0.037164   \n",
       "int_rate                  0.129197    0.416610  -0.031646  0.247325   \n",
       "emp_length                0.010786    0.002860   0.183374  0.010492   \n",
       "annual_inc                0.053295    0.054887   0.363084 -0.110236   \n",
       "dti                      -0.011017    0.223042   0.233076  0.118262   \n",
       "delinq_2yrs               1.000000   -0.053693   0.121494  0.031411   \n",
       "revol_util               -0.053693    1.000000  -0.130948  0.123641   \n",
       "total_acc                 0.121494   -0.130948   1.000000 -0.037874   \n",
       "bad_loan                  0.031411    0.123641  -0.037874  1.000000   \n",
       "longest_credit_length     0.096736   -0.098138   0.413881 -0.005459   \n",
       "\n",
       "                       longest_credit_length  \n",
       "loan_amnt                           0.142279  \n",
       "int_rate                           -0.060694  \n",
       "emp_length                          0.324041  \n",
       "annual_inc                          0.150934  \n",
       "dti                                 0.106916  \n",
       "delinq_2yrs                         0.096736  \n",
       "revol_util                         -0.098138  \n",
       "total_acc                           0.413881  \n",
       "bad_loan                           -0.005459  \n",
       "longest_credit_length               1.000000  "
      ]
     },
     "execution_count": 949,
     "metadata": {},
     "output_type": "execute_result"
    }
   ],
   "source": [
    "print(\"Correlation by Spearman Method\")\n",
    "loan1.corr(method='spearman')"
   ]
  },
  {
   "cell_type": "code",
   "execution_count": 950,
   "metadata": {},
   "outputs": [
    {
     "name": "stdout",
     "output_type": "stream",
     "text": [
      "Correlation by Kendall Method\n"
     ]
    },
    {
     "data": {
      "text/html": [
       "<div>\n",
       "<style scoped>\n",
       "    .dataframe tbody tr th:only-of-type {\n",
       "        vertical-align: middle;\n",
       "    }\n",
       "\n",
       "    .dataframe tbody tr th {\n",
       "        vertical-align: top;\n",
       "    }\n",
       "\n",
       "    .dataframe thead th {\n",
       "        text-align: right;\n",
       "    }\n",
       "</style>\n",
       "<table border=\"1\" class=\"dataframe\">\n",
       "  <thead>\n",
       "    <tr style=\"text-align: right;\">\n",
       "      <th></th>\n",
       "      <th>loan_amnt</th>\n",
       "      <th>int_rate</th>\n",
       "      <th>emp_length</th>\n",
       "      <th>annual_inc</th>\n",
       "      <th>dti</th>\n",
       "      <th>delinq_2yrs</th>\n",
       "      <th>revol_util</th>\n",
       "      <th>total_acc</th>\n",
       "      <th>bad_loan</th>\n",
       "      <th>longest_credit_length</th>\n",
       "    </tr>\n",
       "  </thead>\n",
       "  <tbody>\n",
       "    <tr>\n",
       "      <th>loan_amnt</th>\n",
       "      <td>1.000000</td>\n",
       "      <td>0.108215</td>\n",
       "      <td>0.089170</td>\n",
       "      <td>0.356648</td>\n",
       "      <td>0.034608</td>\n",
       "      <td>-0.003394</td>\n",
       "      <td>0.060035</td>\n",
       "      <td>0.182462</td>\n",
       "      <td>0.030644</td>\n",
       "      <td>0.098477</td>\n",
       "    </tr>\n",
       "    <tr>\n",
       "      <th>int_rate</th>\n",
       "      <td>0.108215</td>\n",
       "      <td>1.000000</td>\n",
       "      <td>-0.003569</td>\n",
       "      <td>-0.018355</td>\n",
       "      <td>0.114066</td>\n",
       "      <td>0.105395</td>\n",
       "      <td>0.289946</td>\n",
       "      <td>-0.021840</td>\n",
       "      <td>0.203941</td>\n",
       "      <td>-0.041694</td>\n",
       "    </tr>\n",
       "    <tr>\n",
       "      <th>emp_length</th>\n",
       "      <td>0.089170</td>\n",
       "      <td>-0.003569</td>\n",
       "      <td>1.000000</td>\n",
       "      <td>0.129300</td>\n",
       "      <td>0.035000</td>\n",
       "      <td>0.009241</td>\n",
       "      <td>0.002211</td>\n",
       "      <td>0.132257</td>\n",
       "      <td>0.009056</td>\n",
       "      <td>0.237998</td>\n",
       "    </tr>\n",
       "    <tr>\n",
       "      <th>annual_inc</th>\n",
       "      <td>0.356648</td>\n",
       "      <td>-0.018355</td>\n",
       "      <td>0.129300</td>\n",
       "      <td>1.000000</td>\n",
       "      <td>-0.107899</td>\n",
       "      <td>0.043165</td>\n",
       "      <td>0.037228</td>\n",
       "      <td>0.251693</td>\n",
       "      <td>-0.090402</td>\n",
       "      <td>0.104336</td>\n",
       "    </tr>\n",
       "    <tr>\n",
       "      <th>dti</th>\n",
       "      <td>0.034608</td>\n",
       "      <td>0.114066</td>\n",
       "      <td>0.035000</td>\n",
       "      <td>-0.107899</td>\n",
       "      <td>1.000000</td>\n",
       "      <td>-0.008913</td>\n",
       "      <td>0.150172</td>\n",
       "      <td>0.158706</td>\n",
       "      <td>0.096583</td>\n",
       "      <td>0.073573</td>\n",
       "    </tr>\n",
       "    <tr>\n",
       "      <th>delinq_2yrs</th>\n",
       "      <td>-0.003394</td>\n",
       "      <td>0.105395</td>\n",
       "      <td>0.009241</td>\n",
       "      <td>0.043165</td>\n",
       "      <td>-0.008913</td>\n",
       "      <td>1.000000</td>\n",
       "      <td>-0.043413</td>\n",
       "      <td>0.099438</td>\n",
       "      <td>0.031027</td>\n",
       "      <td>0.079608</td>\n",
       "    </tr>\n",
       "    <tr>\n",
       "      <th>revol_util</th>\n",
       "      <td>0.060035</td>\n",
       "      <td>0.289946</td>\n",
       "      <td>0.002211</td>\n",
       "      <td>0.037228</td>\n",
       "      <td>0.150172</td>\n",
       "      <td>-0.043413</td>\n",
       "      <td>1.000000</td>\n",
       "      <td>-0.089491</td>\n",
       "      <td>0.101017</td>\n",
       "      <td>-0.067105</td>\n",
       "    </tr>\n",
       "    <tr>\n",
       "      <th>total_acc</th>\n",
       "      <td>0.182462</td>\n",
       "      <td>-0.021840</td>\n",
       "      <td>0.132257</td>\n",
       "      <td>0.251693</td>\n",
       "      <td>0.158706</td>\n",
       "      <td>0.099438</td>\n",
       "      <td>-0.089491</td>\n",
       "      <td>1.000000</td>\n",
       "      <td>-0.031337</td>\n",
       "      <td>0.293959</td>\n",
       "    </tr>\n",
       "    <tr>\n",
       "      <th>bad_loan</th>\n",
       "      <td>0.030644</td>\n",
       "      <td>0.203941</td>\n",
       "      <td>0.009056</td>\n",
       "      <td>-0.090402</td>\n",
       "      <td>0.096583</td>\n",
       "      <td>0.031027</td>\n",
       "      <td>0.101017</td>\n",
       "      <td>-0.031337</td>\n",
       "      <td>1.000000</td>\n",
       "      <td>-0.004541</td>\n",
       "    </tr>\n",
       "    <tr>\n",
       "      <th>longest_credit_length</th>\n",
       "      <td>0.098477</td>\n",
       "      <td>-0.041694</td>\n",
       "      <td>0.237998</td>\n",
       "      <td>0.104336</td>\n",
       "      <td>0.073573</td>\n",
       "      <td>0.079608</td>\n",
       "      <td>-0.067105</td>\n",
       "      <td>0.293959</td>\n",
       "      <td>-0.004541</td>\n",
       "      <td>1.000000</td>\n",
       "    </tr>\n",
       "  </tbody>\n",
       "</table>\n",
       "</div>"
      ],
      "text/plain": [
       "                       loan_amnt  int_rate  emp_length  annual_inc       dti  \\\n",
       "loan_amnt               1.000000  0.108215    0.089170    0.356648  0.034608   \n",
       "int_rate                0.108215  1.000000   -0.003569   -0.018355  0.114066   \n",
       "emp_length              0.089170 -0.003569    1.000000    0.129300  0.035000   \n",
       "annual_inc              0.356648 -0.018355    0.129300    1.000000 -0.107899   \n",
       "dti                     0.034608  0.114066    0.035000   -0.107899  1.000000   \n",
       "delinq_2yrs            -0.003394  0.105395    0.009241    0.043165 -0.008913   \n",
       "revol_util              0.060035  0.289946    0.002211    0.037228  0.150172   \n",
       "total_acc               0.182462 -0.021840    0.132257    0.251693  0.158706   \n",
       "bad_loan                0.030644  0.203941    0.009056   -0.090402  0.096583   \n",
       "longest_credit_length   0.098477 -0.041694    0.237998    0.104336  0.073573   \n",
       "\n",
       "                       delinq_2yrs  revol_util  total_acc  bad_loan  \\\n",
       "loan_amnt                -0.003394    0.060035   0.182462  0.030644   \n",
       "int_rate                  0.105395    0.289946  -0.021840  0.203941   \n",
       "emp_length                0.009241    0.002211   0.132257  0.009056   \n",
       "annual_inc                0.043165    0.037228   0.251693 -0.090402   \n",
       "dti                      -0.008913    0.150172   0.158706  0.096583   \n",
       "delinq_2yrs               1.000000   -0.043413   0.099438  0.031027   \n",
       "revol_util               -0.043413    1.000000  -0.089491  0.101017   \n",
       "total_acc                 0.099438   -0.089491   1.000000 -0.031337   \n",
       "bad_loan                  0.031027    0.101017  -0.031337  1.000000   \n",
       "longest_credit_length     0.079608   -0.067105   0.293959 -0.004541   \n",
       "\n",
       "                       longest_credit_length  \n",
       "loan_amnt                           0.098477  \n",
       "int_rate                           -0.041694  \n",
       "emp_length                          0.237998  \n",
       "annual_inc                          0.104336  \n",
       "dti                                 0.073573  \n",
       "delinq_2yrs                         0.079608  \n",
       "revol_util                         -0.067105  \n",
       "total_acc                           0.293959  \n",
       "bad_loan                           -0.004541  \n",
       "longest_credit_length               1.000000  "
      ]
     },
     "execution_count": 950,
     "metadata": {},
     "output_type": "execute_result"
    }
   ],
   "source": [
    "print(\"Correlation by Kendall Method\")\n",
    "loan1.corr(method='kendall')"
   ]
  },
  {
   "cell_type": "code",
   "execution_count": null,
   "metadata": {},
   "outputs": [],
   "source": [
    "#Inferences\n",
    "#->The correlation coefficient, r, tells us about the strength and direction of the linear relationship between x and y.\n",
    "#->However, the reliability of the linear model also depends on how many observed data points are in the sample. \n",
    "#->There is insufficient evidence to conclude that there is a significant linear relationship between\n",
    "#x and y because the correlation coefficient is not significantly different from zero.\n",
    "#->Therefore, we CANNOT use the regression line to model a linear relationship between x and y in the population."
   ]
  }
 ],
 "metadata": {
  "kernelspec": {
   "display_name": "Python 3",
   "language": "python",
   "name": "python3"
  },
  "language_info": {
   "codemirror_mode": {
    "name": "ipython",
    "version": 3
   },
   "file_extension": ".py",
   "mimetype": "text/x-python",
   "name": "python",
   "nbconvert_exporter": "python",
   "pygments_lexer": "ipython3",
   "version": "3.8.3"
  }
 },
 "nbformat": 4,
 "nbformat_minor": 2
}
